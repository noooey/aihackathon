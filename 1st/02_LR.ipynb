{
  "cells": [
    {
      "cell_type": "code",
      "source": [
        "import pandas as pd\n",
        "\n",
        "df = pd.read_csv(\"2023_smartFarm_AI_hackathon_dataset.csv\")"
      ],
      "metadata": {
        "id": "EDY2a794vZ4T"
      },
      "execution_count": 15,
      "outputs": []
    },
    {
      "cell_type": "code",
      "source": [
        "df.columns"
      ],
      "metadata": {
        "colab": {
          "base_uri": "https://localhost:8080/"
        },
        "id": "4BYhOkHfy7b5",
        "outputId": "0580671b-ddc1-4754-a547-1fd70c83bd41"
      },
      "execution_count": 16,
      "outputs": [
        {
          "output_type": "execute_result",
          "data": {
            "text/plain": [
              "Index(['frmDist', 'date', 'inTp', 'inHd', 'otmsuplyqy', 'acSlrdQy', 'cunt',\n",
              "       'ph', 'outTp', 'outWs', 'daysuplyqy', 'inCo2', 'ec', 'frmYear',\n",
              "       'frmWeek', 'frtstGrupp', 'lefstalklt', 'frtstSetCo', 'pllnLt',\n",
              "       'flanGrupp', 'frtstCo', 'flanJnt', 'tcdmt', 'frmhsFclu', 'hvstGrupp',\n",
              "       'hvstJnt', 'grwtLt', 'fcluHg', 'lefLt', 'flwrCo', 'hvstCo', 'lefCunt',\n",
              "       'frtstJnt', 'lefBt', 'stemThck', 'frmAr', 'frmDov', 'outtrn_cumsum',\n",
              "       'WaterUsage', 'WaterCost', 'FertilizerUsage', 'FertilizerCost',\n",
              "       'CO2Usage', 'CO2Cost', 'MistUsageTime', 'Mist Cost',\n",
              "       'HeatingEnergyUsage_cumsum'],\n",
              "      dtype='object')"
            ]
          },
          "metadata": {},
          "execution_count": 16
        }
      ]
    },
    {
      "cell_type": "code",
      "execution_count": 17,
      "metadata": {
        "id": "_r2vS06mkfOw"
      },
      "outputs": [],
      "source": [
        "import numpy as np\n",
        "from sklearn.model_selection import train_test_split\n",
        "from sklearn.linear_model import LinearRegression\n",
        "\n",
        "# ... (Data preprocessing code here)\n",
        "df = df.drop(columns=['frmDist'])\n",
        "df = df.sort_values(by='date') # 날짜 오름차순 정렬\n",
        "\n",
        "# 모든 행의 값이 0인 컬럼 삭제\n",
        "zero_columns = df.columns[(df == 0).all()]\n",
        "df.drop(zero_columns, axis=1, inplace=True)\n",
        "\n",
        "# NaN 포함한 행 삭제\n",
        "df = df.dropna()"
      ]
    },
    {
      "cell_type": "code",
      "source": [
        "# nan_rows = df[df.isnull().any(axis=1)]\n",
        "# print(nan_rows)"
      ],
      "metadata": {
        "id": "VCMtPVKSzedG"
      },
      "execution_count": null,
      "outputs": []
    },
    {
      "cell_type": "code",
      "source": [
        "# Split the data into training and testing sets\n",
        "X = df[df.drop(columns=['outtrn_cumsum','HeatingEnergyUsage_cumsum']).columns]\n",
        "Y = df[['outtrn_cumsum','HeatingEnergyUsage_cumsum']]\n",
        "X_train, X_test, y_train, y_test = train_test_split(\n",
        "    X, Y, test_size=0.2, random_state=42\n",
        ")"
      ],
      "metadata": {
        "id": "yP064z-JyLKO"
      },
      "execution_count": 18,
      "outputs": []
    },
    {
      "cell_type": "code",
      "source": [
        "# Initialize and train the LinearRegression model\n",
        "model = LinearRegression()\n",
        "model.fit(X_train, y_train)\n",
        "\n",
        "# Predict 'y' values using the trained model\n",
        "y_pred = model.predict(X_test)"
      ],
      "metadata": {
        "id": "E1KVI1EvyJ4Z"
      },
      "execution_count": 19,
      "outputs": []
    },
    {
      "cell_type": "code",
      "source": [
        "# Calculate RMSE between the predictions and actual 'y' values\n",
        "def calculate_rmse(targets, predictions):\n",
        "    \"\"\"\n",
        "    Calculate the Root Mean Squared Error (RMSE) between predicted and target values.\n",
        "\n",
        "    :param predictions: Predicted values.\n",
        "    :type predictions: array-like\n",
        "    :param targets: Target values.\n",
        "    :type targets: array-like\n",
        "    :return: RMSE value.\n",
        "    :rtype: float\n",
        "    \"\"\"\n",
        "    from sklearn.metrics import mean_squared_error\n",
        "    return np.sqrt(mean_squared_error(targets, predictions))\n",
        "\n",
        "\n",
        "# Calculate r2_score between the predictions and actual 'y' values\n",
        "def calculate_R2_score(y_test,y_pred):\n",
        "    from sklearn.metrics import r2_score\n",
        "    return r2_score(y_test, y_pred)\n",
        "\n",
        "\n",
        "rmse = calculate_rmse(y_test, y_pred)\n",
        "r2score = calculate_R2_score(y_test, y_pred)\n",
        "\n",
        "# ------------------------------------------------\n",
        "### OUTPUT ###\n",
        "print(\"RMSE:\", rmse)\n",
        "print(\"R2_score:\", r2score)"
      ],
      "metadata": {
        "colab": {
          "base_uri": "https://localhost:8080/"
        },
        "id": "XnnoOvoDvvsN",
        "outputId": "b9debdb4-3bc9-4c7c-a3fe-cc5931cf33e5"
      },
      "execution_count": 20,
      "outputs": [
        {
          "output_type": "stream",
          "name": "stdout",
          "text": [
            "RMSE: 239118.89780125386\n",
            "R2_score: 0.5190696540948687\n"
          ]
        }
      ]
    }
  ],
  "metadata": {
    "kernelspec": {
      "display_name": "Python 3",
      "language": "python",
      "name": "python3"
    },
    "language_info": {
      "codemirror_mode": {
        "name": "ipython",
        "version": 3
      },
      "file_extension": ".py",
      "mimetype": "text/x-python",
      "name": "python",
      "nbconvert_exporter": "python",
      "pygments_lexer": "ipython3",
      "version": "3.11.4"
    },
    "orig_nbformat": 4,
    "colab": {
      "provenance": []
    }
  },
  "nbformat": 4,
  "nbformat_minor": 0
}