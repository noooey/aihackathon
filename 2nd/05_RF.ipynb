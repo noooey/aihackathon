{
  "cells": [
    {
      "cell_type": "markdown",
      "source": [
        "# 데이터 로드"
      ],
      "metadata": {
        "id": "eySHHmo73o3l"
      }
    },
    {
      "cell_type": "code",
      "source": [
        "import pandas as pd\n",
        "\n",
        "df = pd.read_csv(\"2023_smartFarm_AI_hackathon_dataset.csv\")"
      ],
      "metadata": {
        "id": "EDY2a794vZ4T"
      },
      "execution_count": 79,
      "outputs": []
    },
    {
      "cell_type": "code",
      "source": [
        "df.columns"
      ],
      "metadata": {
        "colab": {
          "base_uri": "https://localhost:8080/"
        },
        "id": "4BYhOkHfy7b5",
        "outputId": "46c0f80f-5604-43dd-8112-7346aadafe0e"
      },
      "execution_count": 80,
      "outputs": [
        {
          "output_type": "execute_result",
          "data": {
            "text/plain": [
              "Index(['frmDist', 'date', 'inTp', 'inHd', 'otmsuplyqy', 'acSlrdQy', 'cunt',\n",
              "       'ph', 'outTp', 'outWs', 'daysuplyqy', 'inCo2', 'ec', 'frmYear',\n",
              "       'frmWeek', 'frtstGrupp', 'lefstalklt', 'frtstSetCo', 'pllnLt',\n",
              "       'flanGrupp', 'frtstCo', 'flanJnt', 'tcdmt', 'frmhsFclu', 'hvstGrupp',\n",
              "       'hvstJnt', 'grwtLt', 'fcluHg', 'lefLt', 'flwrCo', 'hvstCo', 'lefCunt',\n",
              "       'frtstJnt', 'lefBt', 'stemThck', 'frmAr', 'frmDov', 'outtrn_cumsum',\n",
              "       'WaterUsage', 'WaterCost', 'FertilizerUsage', 'FertilizerCost',\n",
              "       'CO2Usage', 'CO2Cost', 'MistUsageTime', 'Mist Cost',\n",
              "       'HeatingEnergyUsage_cumsum'],\n",
              "      dtype='object')"
            ]
          },
          "metadata": {},
          "execution_count": 80
        }
      ]
    },
    {
      "cell_type": "markdown",
      "source": [
        "# 데이터 전처리"
      ],
      "metadata": {
        "id": "YgYMt5hE30FL"
      }
    },
    {
      "cell_type": "code",
      "execution_count": 81,
      "metadata": {
        "id": "_r2vS06mkfOw"
      },
      "outputs": [],
      "source": [
        "import numpy as np\n",
        "\n",
        "# ... (Data preprocessing code here)\n",
        "df = df.drop(columns=['frmDist'])\n",
        "df = df.sort_values(by='date') # 날짜 오름차순 정렬\n",
        "\n",
        "# 모든 행의 값이 0인 컬럼 삭제\n",
        "zero_columns = df.columns[(df == 0).all()]\n",
        "df.drop(zero_columns, axis=1, inplace=True)\n",
        "\n",
        "# NaN 포함한 행 삭제\n",
        "df = df.dropna()"
      ]
    },
    {
      "cell_type": "code",
      "source": [
        "# nan_rows = df[df.isnull().any(axis=1)]\n",
        "# print(nan_rows)"
      ],
      "metadata": {
        "id": "VCMtPVKSzedG"
      },
      "execution_count": 78,
      "outputs": []
    },
    {
      "cell_type": "code",
      "source": [
        "con = df[(df['date'] >= 20170101) & (df['date'] <= 20191231)]\n",
        "cost = df[(df['date'] >= 20220101) & (df['date'] <= 20221231)]"
      ],
      "metadata": {
        "id": "BITmj70sB9K2"
      },
      "execution_count": 82,
      "outputs": []
    },
    {
      "cell_type": "code",
      "source": [
        "zero_con = con.columns[(con == 0).all()]\n",
        "con.drop(zero_con, axis=1, inplace=True)\n",
        "\n",
        "zero_cost = cost.columns[(cost == 0).all()]\n",
        "cost.drop(zero_cost, axis=1, inplace=True)"
      ],
      "metadata": {
        "id": "sQ0VtMyCCRDj"
      },
      "execution_count": null,
      "outputs": []
    },
    {
      "cell_type": "code",
      "source": [
        "import pandas as pd\n",
        "\n",
        "# 날짜 변환\n",
        "con['date'] = pd.to_datetime(con['date'], format='%Y%m%d')\n",
        "\n",
        "# 파생 변수 생성\n",
        "con['temp_difference'] = con['inTp'] - con['outTp']\n",
        "con['sunlight_per_watering'] = con.apply(lambda row: row['acSlrdQy'] / row['cunt'] if row['cunt'] != 0 else 0, axis=1)\n",
        "con['7day_avg_inTp'] = con['inTp'].rolling(window=7).mean()\n",
        "con['temp_humidity_interaction'] = con['inTp'] * con['inHd']\n",
        "con['month'] = con['date'].dt.month\n",
        "con['day'] = con['date'].dt.day\n",
        "con['season'] = con['month'].apply(lambda x: 'spring' if 3 <= x < 6 else 'summer' if 6 <= x < 9 else 'fall' if 9 <= x < 12 else 'winter')\n",
        "con['7day_avg_inHd'] = con['inHd'].rolling(window=7).mean()\n",
        "\n",
        "# NaN 값 처리\n",
        "con.dropna(subset=['7day_avg_inTp', '7day_avg_inHd'], inplace=True)\n",
        "\n",
        "# 원-핫 인코딩\n",
        "con = pd.concat([con, pd.get_dummies(con['season'], prefix='season')], axis=1)\n",
        "con.drop('season', axis=1, inplace=True)"
      ],
      "metadata": {
        "id": "FIu_8lHEDkCg"
      },
      "execution_count": null,
      "outputs": []
    },
    {
      "cell_type": "code",
      "source": [
        "con.columns"
      ],
      "metadata": {
        "colab": {
          "base_uri": "https://localhost:8080/"
        },
        "id": "Pa-mfwpwOmAP",
        "outputId": "08a2d73c-0752-4519-8ddc-375d783adfa9"
      },
      "execution_count": 85,
      "outputs": [
        {
          "output_type": "execute_result",
          "data": {
            "text/plain": [
              "Index(['date', 'inTp', 'inHd', 'otmsuplyqy', 'acSlrdQy', 'cunt', 'ph', 'outTp',\n",
              "       'outWs', 'inCo2', 'ec', 'frmYear', 'frmWeek', 'frtstGrupp', 'flanGrupp',\n",
              "       'frtstCo', 'frmhsFclu', 'hvstGrupp', 'grwtLt', 'fcluHg', 'lefLt',\n",
              "       'hvstCo', 'lefCunt', 'lefBt', 'stemThck', 'frmAr', 'frmDov',\n",
              "       'outtrn_cumsum', 'temp_difference', 'sunlight_per_watering',\n",
              "       '7day_avg_inTp', 'temp_humidity_interaction', 'month', 'day',\n",
              "       '7day_avg_inHd', 'season_fall', 'season_spring', 'season_summer',\n",
              "       'season_winter'],\n",
              "      dtype='object')"
            ]
          },
          "metadata": {},
          "execution_count": 85
        }
      ]
    },
    {
      "cell_type": "code",
      "source": [
        "def calculate_ratio(df, numerator, denominator, new_column_name):\n",
        "    df[new_column_name] = np.where(df[denominator] != 0, df[numerator] / df[denominator], 0)\n",
        "    return df\n",
        "\n",
        "def calculate_rolling_average(df, column, window_size=7):\n",
        "    return df[column].rolling(window=window_size).mean().fillna(method='ffill')\n",
        "\n",
        "def calculate_rolling_std(df, column, window_size=7):\n",
        "    return df[column].rolling(window=window_size).std()\n",
        "\n",
        "def calculate_recent_trend(df, column, window_size=7):\n",
        "    return df[column] - df[column].rolling(window=window_size).mean()\n",
        "\n",
        "cost = calculate_ratio(cost, 'CO2Cost', 'CO2Usage', 'CO2_Usage_Cost_Ratio')\n",
        "cost = calculate_ratio(cost, 'Mist Cost', 'MistUsageTime', 'Mist_Time_Cost_Ratio')\n",
        "\n",
        "# 통계적 집계\n",
        "cost['7day_avg_WaterUsage'] = calculate_rolling_average(cost, 'WaterUsage')\n",
        "cost['7day_avg_FertilizerUsage'] = calculate_rolling_average(cost, 'FertilizerUsage')\n",
        "cost['7day_avg_CO2Usage'] = calculate_rolling_average(cost, 'CO2Usage')\n",
        "\n",
        "# 다항/상호작용 파생 변수 생성\n",
        "cost['ph_ec_interaction'] = cost['ph'] * cost['ec']\n",
        "\n",
        "# 날짜 처리\n",
        "cost['date'] = pd.to_datetime(cost['date'], format='%Y%m%d')\n",
        "\n",
        "# 추가 파생 변수 생성\n",
        "cost['7day_WaterUsage_Volatility'] = calculate_rolling_std(cost, 'WaterUsage')\n",
        "cost['7day_FertilizerUsage_Volatility'] = calculate_rolling_std(cost, 'FertilizerUsage')\n",
        "cost['WaterUsage_Recent_Trend'] = calculate_recent_trend(cost, 'WaterUsage')\n",
        "cost['FertilizerUsage_Recent_Trend'] = calculate_recent_trend(cost, 'FertilizerUsage')\n",
        "\n",
        "# 일부 NaN 값 처리\n",
        "required_columns = ['7day_avg_WaterUsage', '7day_avg_FertilizerUsage', '7day_avg_CO2Usage', '7day_WaterUsage_Volatility',\n",
        "                    '7day_FertilizerUsage_Volatility', 'WaterUsage_Recent_Trend', 'FertilizerUsage_Recent_Trend']\n",
        "cost = cost.dropna(subset=required_columns)\n",
        "\n",
        "# 예: 물 사용량이 처음 발생한 날부터의 경과일\n",
        "first_water_usage_date = cost[cost['WaterUsage'] > 0]['date'].iloc[0]\n",
        "cost['Days_Since_First_WaterUsage'] = (cost['date'] - first_water_usage_date).dt.days\n",
        "\n",
        "# 결과 확인\n",
        "print(cost.head())"
      ],
      "metadata": {
        "id": "x6npQikvR1Gb"
      },
      "execution_count": null,
      "outputs": []
    },
    {
      "cell_type": "code",
      "source": [
        "cost.columns"
      ],
      "metadata": {
        "colab": {
          "base_uri": "https://localhost:8080/"
        },
        "id": "U2UN8QgZOoUE",
        "outputId": "b2026e35-9afe-4f7a-ee96-4d30e83df7c3"
      },
      "execution_count": 90,
      "outputs": [
        {
          "output_type": "execute_result",
          "data": {
            "text/plain": [
              "Index(['date', 'ph', 'ec', 'frtstCo', 'tcdmt', 'grwtLt', 'fcluHg', 'lefLt',\n",
              "       'lefCunt', 'lefBt', 'frmAr', 'frmDov', 'outtrn_cumsum', 'WaterUsage',\n",
              "       'WaterCost', 'FertilizerUsage', 'FertilizerCost', 'CO2Usage', 'CO2Cost',\n",
              "       'MistUsageTime', 'Mist Cost', 'HeatingEnergyUsage_cumsum',\n",
              "       'CO2_Usage_Cost_Ratio', 'Mist_Time_Cost_Ratio', '7day_avg_WaterUsage',\n",
              "       '7day_avg_FertilizerUsage', '7day_avg_CO2Usage', 'ph_ec_interaction',\n",
              "       '7day_WaterUsage_Volatility', '7day_FertilizerUsage_Volatility',\n",
              "       'WaterUsage_Recent_Trend', 'FertilizerUsage_Recent_Trend',\n",
              "       'Days_Since_First_WaterUsage'],\n",
              "      dtype='object')"
            ]
          },
          "metadata": {},
          "execution_count": 90
        }
      ]
    },
    {
      "cell_type": "markdown",
      "source": [
        "# memo\n",
        "- 연도 빼고 월일로 패턴 대응 해보기\n",
        "- 2017~2022 패턴비교\n",
        "- 2018~2022 패턴비교\n",
        "- 2019~2022 패턴비교"
      ],
      "metadata": {
        "id": "w8xNmrwUSbSA"
      }
    },
    {
      "cell_type": "code",
      "source": [
        "# import matplotlib.pyplot as plt\n",
        "# import seaborn as sns\n",
        "\n",
        "# # 연도별 con 데이터 분리\n",
        "# con_17 = con[con['date'].dt.year == 2017]\n",
        "# con_18 = con[con['date'].dt.year == 2018]\n",
        "# con_19 = con[con['date'].dt.year == 2019]\n",
        "\n",
        "# # 라인 플롯 (예: outtrn_cumsum와 HeatingEnergyUsage_cumsum 비교)\n",
        "# plt.figure(figsize=(30, 3))\n",
        "# plt.plot(con_17['date'].dt.strftime('%m-%d'), con_17['outtrn_cumsum'], label='con_17')\n",
        "# plt.plot(con_18['date'].dt.strftime('%m-%d'), con_18['outtrn_cumsum'], label='con_18')\n",
        "# plt.plot(con_19['date'].dt.strftime('%m-%d'), con_19['outtrn_cumsum'], label='con_19')\n",
        "# plt.plot(cost['date'].dt.strftime('%m-%d'), cost['HeatingEnergyUsage_cumsum'], label='cost_22', color='red')\n",
        "\n",
        "# # X축, Y축 및 타이틀 라벨 추가\n",
        "# plt.xlabel('Date (Month)')\n",
        "# plt.ylabel('Cumulative Sum Value')\n",
        "# plt.title('Comparison between con (2017-2019) and cost (2022)')\n",
        "\n",
        "# # 월 단위로 x축 눈금 조절\n",
        "# months = [\"01-01\", \"02-01\", \"03-01\", \"04-01\", \"05-01\", \"06-01\", \"07-01\", \"08-01\", \"09-01\", \"10-01\", \"11-01\", \"12-01\"]\n",
        "# plt.xticks(months, labels=['Jan', 'Feb', 'Mar', 'Apr', 'May', 'Jun', 'Jul', 'Aug', 'Sep', 'Oct', 'Nov', 'Dec'])\n",
        "\n",
        "# plt.legend()\n",
        "# plt.show()"
      ],
      "metadata": {
        "id": "5MjzelvgUI6x"
      },
      "execution_count": null,
      "outputs": []
    },
    {
      "cell_type": "code",
      "source": [
        "# import matplotlib.pyplot as plt\n",
        "\n",
        "# # 연도별 con 데이터 분리\n",
        "# con_17 = con[con['date'].dt.year == 2017]\n",
        "# con_18 = con[con['date'].dt.year == 2018]\n",
        "# con_19 = con[con['date'].dt.year == 2019]\n",
        "\n",
        "# # 월별로 데이터를 분리하고 각각의 월에 대한 그래프 그리기\n",
        "# months = range(1, 13)\n",
        "# month_names = ['January', 'February', 'March', 'April', 'May', 'June', 'July', 'August', 'September', 'October', 'November', 'December']\n",
        "\n",
        "# plt.figure(figsize=(20, 30))\n",
        "\n",
        "# for i, month in enumerate(months):\n",
        "#     ax1 = plt.subplot(6, 2, i+1)  # 6 rows, 2 columns for 12 months\n",
        "\n",
        "#     mask_17 = (con_17['date'].dt.month == month)\n",
        "#     mask_18 = (con_18['date'].dt.month == month)\n",
        "#     mask_19 = (con_19['date'].dt.month == month)\n",
        "#     mask_cost = (cost['date'].dt.month == month)\n",
        "\n",
        "#     ax1.plot(con_17[mask_17]['date'].dt.strftime('%d'), con_17[mask_17]['outtrn_cumsum'], label='con_17')\n",
        "#     ax1.plot(con_18[mask_18]['date'].dt.strftime('%d'), con_18[mask_18]['outtrn_cumsum'], label='con_18')\n",
        "#     ax1.plot(con_19[mask_19]['date'].dt.strftime('%d'), con_19[mask_19]['outtrn_cumsum'], label='con_19')\n",
        "#     ax1.set_xlabel('Day')\n",
        "#     ax1.set_ylabel('outtrn_cumsum', color='blue')\n",
        "#     ax1.tick_params('y', colors='blue')\n",
        "#     ax1.legend(loc='upper left')\n",
        "\n",
        "#     ax2 = ax1.twinx()  # instantiate a second axes that shares the same x-axis\n",
        "#     ax2.plot(cost[mask_cost]['date'].dt.strftime('%d'), cost[mask_cost]['HeatingEnergyUsage_cumsum'], label='cost_22', color='red')\n",
        "#     ax2.set_ylabel('HeatingEnergyUsage_cumsum', color='red')\n",
        "#     ax2.tick_params('y', colors='red')\n",
        "#     ax2.legend(loc='upper right')\n",
        "\n",
        "#     plt.title(month_names[i])\n",
        "\n",
        "# plt.tight_layout()\n",
        "# plt.show()"
      ],
      "metadata": {
        "id": "NccNio94YKNl"
      },
      "execution_count": null,
      "outputs": []
    },
    {
      "cell_type": "markdown",
      "source": [
        "# 훈련/테스트 데이터셋 생성"
      ],
      "metadata": {
        "id": "Y8C5S6km31eQ"
      }
    },
    {
      "cell_type": "code",
      "source": [
        "# 모든 컬럼 리스트 생성\n",
        "all_columns = set(con.columns).union(set(cost.columns))\n",
        "\n",
        "# 각 데이터 프레임에 없는 컬럼을 0으로 채우기\n",
        "for column in all_columns:\n",
        "    if column not in con.columns:\n",
        "        con[column] = 0\n",
        "    if column not in cost.columns:\n",
        "        cost[column] = 0\n",
        "\n",
        "# 두 데이터 프레임 합치기\n",
        "combined_df = pd.concat([con, cost], axis=0).sort_values(by='date').reset_index(drop=True)\n",
        "\n",
        "# 'date' 컬럼 타입 변경\n",
        "combined_df['date'] = combined_df['date'].astype(int)"
      ],
      "metadata": {
        "id": "bqbg1NSSai1H"
      },
      "execution_count": 108,
      "outputs": []
    },
    {
      "cell_type": "code",
      "source": [
        "from sklearn.model_selection import train_test_split\n",
        "\n",
        "# Split the data into training and testing sets\n",
        "X = combined_df[df.drop(columns=['outtrn_cumsum','HeatingEnergyUsage_cumsum']).columns]\n",
        "Y = combined_df[['outtrn_cumsum','HeatingEnergyUsage_cumsum']]\n",
        "X_train, X_test, y_train, y_test = train_test_split(\n",
        "    X, Y, test_size=0.2, random_state=42\n",
        ")"
      ],
      "metadata": {
        "id": "yP064z-JyLKO"
      },
      "execution_count": 109,
      "outputs": []
    },
    {
      "cell_type": "markdown",
      "source": [
        "# 모델 정의 및 학습, 예측"
      ],
      "metadata": {
        "id": "o_BRoD9E35HF"
      }
    },
    {
      "cell_type": "code",
      "source": [
        "from sklearn.ensemble import RandomForestRegressor\n",
        "\n",
        "# Initialize and train the LinearRegression model\n",
        "model = RandomForestRegressor()\n",
        "model.fit(X_train, y_train)\n",
        "\n",
        "# Predict 'y' values using the trained model\n",
        "y_pred = model.predict(X_test)"
      ],
      "metadata": {
        "id": "E1KVI1EvyJ4Z"
      },
      "execution_count": 110,
      "outputs": []
    },
    {
      "cell_type": "markdown",
      "source": [
        "# 성능 평가"
      ],
      "metadata": {
        "id": "Ofjn6QeW37Bm"
      }
    },
    {
      "cell_type": "code",
      "source": [
        "# Calculate RMSE between the predictions and actual 'y' values\n",
        "def calculate_rmse(targets, predictions):\n",
        "    \"\"\"\n",
        "    Calculate the Root Mean Squared Error (RMSE) between predicted and target values.\n",
        "\n",
        "    :param predictions: Predicted values.\n",
        "    :type predictions: array-like\n",
        "    :param targets: Target values.\n",
        "    :type targets: array-like\n",
        "    :return: RMSE value.\n",
        "    :rtype: float\n",
        "    \"\"\"\n",
        "    from sklearn.metrics import mean_squared_error\n",
        "    return np.sqrt(mean_squared_error(targets, predictions))\n",
        "\n",
        "\n",
        "# Calculate r2_score between the predictions and actual 'y' values\n",
        "def calculate_R2_score(y_test,y_pred):\n",
        "    from sklearn.metrics import r2_score\n",
        "    return r2_score(y_test, y_pred)\n",
        "\n",
        "\n",
        "rmse = calculate_rmse(y_test, y_pred)\n",
        "r2score = calculate_R2_score(y_test, y_pred)\n",
        "\n",
        "# ------------------------------------------------\n",
        "### OUTPUT ###\n",
        "print(\"RMSE:\", rmse)\n",
        "print(\"R2_score:\", r2score)"
      ],
      "metadata": {
        "colab": {
          "base_uri": "https://localhost:8080/"
        },
        "id": "w2w9F3En3kxM",
        "outputId": "31fc900b-e9ec-4111-f6fd-d7e85ff623be"
      },
      "execution_count": 111,
      "outputs": [
        {
          "output_type": "stream",
          "name": "stdout",
          "text": [
            "RMSE: 34906.134520525644\n",
            "R2_score: 0.9938095894980512\n"
          ]
        }
      ]
    }
  ],
  "metadata": {
    "kernelspec": {
      "display_name": "Python 3",
      "language": "python",
      "name": "python3"
    },
    "language_info": {
      "codemirror_mode": {
        "name": "ipython",
        "version": 3
      },
      "file_extension": ".py",
      "mimetype": "text/x-python",
      "name": "python",
      "nbconvert_exporter": "python",
      "pygments_lexer": "ipython3",
      "version": "3.11.4"
    },
    "orig_nbformat": 4,
    "colab": {
      "provenance": []
    }
  },
  "nbformat": 4,
  "nbformat_minor": 0
}