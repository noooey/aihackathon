{
  "cells": [
    {
      "cell_type": "markdown",
      "source": [
        "# 데이터 로드"
      ],
      "metadata": {
        "id": "eySHHmo73o3l"
      }
    },
    {
      "cell_type": "code",
      "source": [
        "import pandas as pd\n",
        "\n",
        "df = pd.read_csv(\"2023_smartFarm_AI_hackathon_dataset.csv\")"
      ],
      "metadata": {
        "id": "EDY2a794vZ4T"
      },
      "execution_count": 372,
      "outputs": []
    },
    {
      "cell_type": "code",
      "source": [
        "df.columns"
      ],
      "metadata": {
        "colab": {
          "base_uri": "https://localhost:8080/"
        },
        "id": "4BYhOkHfy7b5",
        "outputId": "7253057e-8763-48c1-af7d-9b1df1d32d9a"
      },
      "execution_count": 373,
      "outputs": [
        {
          "output_type": "execute_result",
          "data": {
            "text/plain": [
              "Index(['frmDist', 'date', 'inTp', 'inHd', 'otmsuplyqy', 'acSlrdQy', 'cunt',\n",
              "       'ph', 'outTp', 'outWs', 'daysuplyqy', 'inCo2', 'ec', 'frmYear',\n",
              "       'frmWeek', 'frtstGrupp', 'lefstalklt', 'frtstSetCo', 'pllnLt',\n",
              "       'flanGrupp', 'frtstCo', 'flanJnt', 'tcdmt', 'frmhsFclu', 'hvstGrupp',\n",
              "       'hvstJnt', 'grwtLt', 'fcluHg', 'lefLt', 'flwrCo', 'hvstCo', 'lefCunt',\n",
              "       'frtstJnt', 'lefBt', 'stemThck', 'frmAr', 'frmDov', 'outtrn_cumsum',\n",
              "       'WaterUsage', 'WaterCost', 'FertilizerUsage', 'FertilizerCost',\n",
              "       'CO2Usage', 'CO2Cost', 'MistUsageTime', 'Mist Cost',\n",
              "       'HeatingEnergyUsage_cumsum'],\n",
              "      dtype='object')"
            ]
          },
          "metadata": {},
          "execution_count": 373
        }
      ]
    },
    {
      "cell_type": "markdown",
      "source": [
        "# 데이터 전처리"
      ],
      "metadata": {
        "id": "YgYMt5hE30FL"
      }
    },
    {
      "cell_type": "code",
      "execution_count": 374,
      "metadata": {
        "id": "_r2vS06mkfOw"
      },
      "outputs": [],
      "source": [
        "import numpy as np\n",
        "\n",
        "# ... (Data preprocessing code here)\n",
        "df = df.drop(columns=['frmDist'])\n",
        "df = df.sort_values(by='date') # 날짜 오름차순 정렬\n",
        "\n",
        "# 모든 행의 값이 0인 컬럼 삭제\n",
        "zero_columns = df.columns[(df == 0).all()]\n",
        "df.drop(zero_columns, axis=1, inplace=True)\n",
        "\n",
        "# NaN 포함한 행 삭제\n",
        "df = df.dropna()"
      ]
    },
    {
      "cell_type": "code",
      "source": [
        "con = df[(df['date'] >= 20170101) & (df['date'] <= 20191231)]\n",
        "cost = df[(df['date'] >= 20220101) & (df['date'] <= 20221231)]"
      ],
      "metadata": {
        "id": "BITmj70sB9K2"
      },
      "execution_count": 375,
      "outputs": []
    },
    {
      "cell_type": "code",
      "source": [
        "zero_con = con.columns[(con == 0).all()]\n",
        "con.drop(zero_con, axis=1, inplace=True)\n",
        "\n",
        "zero_cost = cost.columns[(cost == 0).all()]\n",
        "cost.drop(zero_cost, axis=1, inplace=True)"
      ],
      "metadata": {
        "colab": {
          "base_uri": "https://localhost:8080/"
        },
        "id": "sQ0VtMyCCRDj",
        "outputId": "643f70cb-0562-4832-a2b1-43a0232aebbd"
      },
      "execution_count": 376,
      "outputs": [
        {
          "output_type": "stream",
          "name": "stderr",
          "text": [
            "<ipython-input-376-014f37b67aa1>:2: SettingWithCopyWarning: \n",
            "A value is trying to be set on a copy of a slice from a DataFrame\n",
            "\n",
            "See the caveats in the documentation: https://pandas.pydata.org/pandas-docs/stable/user_guide/indexing.html#returning-a-view-versus-a-copy\n",
            "  con.drop(zero_con, axis=1, inplace=True)\n",
            "<ipython-input-376-014f37b67aa1>:5: SettingWithCopyWarning: \n",
            "A value is trying to be set on a copy of a slice from a DataFrame\n",
            "\n",
            "See the caveats in the documentation: https://pandas.pydata.org/pandas-docs/stable/user_guide/indexing.html#returning-a-view-versus-a-copy\n",
            "  cost.drop(zero_cost, axis=1, inplace=True)\n"
          ]
        }
      ]
    },
    {
      "cell_type": "code",
      "source": [
        "import pandas as pd\n",
        "\n",
        "# 날짜 변환\n",
        "con['date'] = pd.to_datetime(con['date'], format='%Y%m%d')\n",
        "\n",
        "# 파생 변수 생성\n",
        "con['temp_difference'] = con['inTp'] - con['outTp']\n",
        "con['sunlight_per_watering'] = con.apply(lambda row: row['acSlrdQy'] / row['cunt'] if row['cunt'] != 0 else 0, axis=1)\n",
        "con['7day_avg_inTp'] = con['inTp'].rolling(window=7).mean()\n",
        "con['temp_humidity_interaction'] = con['inTp'] * con['inHd']\n",
        "con['month'] = con['date'].dt.month\n",
        "con['day'] = con['date'].dt.day\n",
        "con['season'] = con['month'].apply(lambda x: 'spring' if 3 <= x < 6 else 'summer' if 6 <= x < 9 else 'fall' if 9 <= x < 12 else 'winter')\n",
        "con['7day_avg_inHd'] = con['inHd'].rolling(window=7).mean()\n",
        "\n",
        "# NaN 값 처리\n",
        "con.dropna(subset=['7day_avg_inTp', '7day_avg_inHd'], inplace=True)\n",
        "\n",
        "# 원-핫 인코딩\n",
        "con = pd.concat([con, pd.get_dummies(con['season'], prefix='season')], axis=1)\n",
        "con.drop('season', axis=1, inplace=True)\n",
        "\n",
        "# 'inTp'와 'outTp'의 차이를 이용한 일간 온도 변동\n",
        "con['daily_temp_change'] = con['inTp'].diff()\n",
        "\n",
        "# 'inHd'의 일간 변동\n",
        "con['daily_humidity_change'] = con['inHd'].diff()\n",
        "\n",
        "# 일출 전 후로 'acSlrdQy'가 어떻게 변하는지 체크하기 위한 지연 변수 (하루 지연)\n",
        "con['acSlrdQy_lag1'] = con['acSlrdQy'].shift(1)\n",
        "\n",
        "# 'otmsuplyqy'와 'acSlrdQy'의 비율\n",
        "con['sunlight_to_otmsuplyqy_ratio'] = con.apply(lambda row: row['acSlrdQy'] / row['otmsuplyqy'] if row['otmsuplyqy'] != 0 else 0, axis=1)\n",
        "\n",
        "# NaN 값 처리 (새로 생성한 지연 변수에 대해 NaN 값을 처리)\n",
        "con.dropna(subset=['daily_temp_change', 'daily_humidity_change', 'acSlrdQy_lag1'], inplace=True)"
      ],
      "metadata": {
        "colab": {
          "base_uri": "https://localhost:8080/"
        },
        "id": "FIu_8lHEDkCg",
        "outputId": "13ab7f89-2930-4189-f527-199d4aaf4862"
      },
      "execution_count": 377,
      "outputs": [
        {
          "output_type": "stream",
          "name": "stderr",
          "text": [
            "<ipython-input-377-72fb28369dc9>:4: SettingWithCopyWarning: \n",
            "A value is trying to be set on a copy of a slice from a DataFrame.\n",
            "Try using .loc[row_indexer,col_indexer] = value instead\n",
            "\n",
            "See the caveats in the documentation: https://pandas.pydata.org/pandas-docs/stable/user_guide/indexing.html#returning-a-view-versus-a-copy\n",
            "  con['date'] = pd.to_datetime(con['date'], format='%Y%m%d')\n",
            "<ipython-input-377-72fb28369dc9>:7: SettingWithCopyWarning: \n",
            "A value is trying to be set on a copy of a slice from a DataFrame.\n",
            "Try using .loc[row_indexer,col_indexer] = value instead\n",
            "\n",
            "See the caveats in the documentation: https://pandas.pydata.org/pandas-docs/stable/user_guide/indexing.html#returning-a-view-versus-a-copy\n",
            "  con['temp_difference'] = con['inTp'] - con['outTp']\n",
            "<ipython-input-377-72fb28369dc9>:8: SettingWithCopyWarning: \n",
            "A value is trying to be set on a copy of a slice from a DataFrame.\n",
            "Try using .loc[row_indexer,col_indexer] = value instead\n",
            "\n",
            "See the caveats in the documentation: https://pandas.pydata.org/pandas-docs/stable/user_guide/indexing.html#returning-a-view-versus-a-copy\n",
            "  con['sunlight_per_watering'] = con.apply(lambda row: row['acSlrdQy'] / row['cunt'] if row['cunt'] != 0 else 0, axis=1)\n",
            "<ipython-input-377-72fb28369dc9>:9: SettingWithCopyWarning: \n",
            "A value is trying to be set on a copy of a slice from a DataFrame.\n",
            "Try using .loc[row_indexer,col_indexer] = value instead\n",
            "\n",
            "See the caveats in the documentation: https://pandas.pydata.org/pandas-docs/stable/user_guide/indexing.html#returning-a-view-versus-a-copy\n",
            "  con['7day_avg_inTp'] = con['inTp'].rolling(window=7).mean()\n",
            "<ipython-input-377-72fb28369dc9>:10: SettingWithCopyWarning: \n",
            "A value is trying to be set on a copy of a slice from a DataFrame.\n",
            "Try using .loc[row_indexer,col_indexer] = value instead\n",
            "\n",
            "See the caveats in the documentation: https://pandas.pydata.org/pandas-docs/stable/user_guide/indexing.html#returning-a-view-versus-a-copy\n",
            "  con['temp_humidity_interaction'] = con['inTp'] * con['inHd']\n",
            "<ipython-input-377-72fb28369dc9>:11: SettingWithCopyWarning: \n",
            "A value is trying to be set on a copy of a slice from a DataFrame.\n",
            "Try using .loc[row_indexer,col_indexer] = value instead\n",
            "\n",
            "See the caveats in the documentation: https://pandas.pydata.org/pandas-docs/stable/user_guide/indexing.html#returning-a-view-versus-a-copy\n",
            "  con['month'] = con['date'].dt.month\n",
            "<ipython-input-377-72fb28369dc9>:12: SettingWithCopyWarning: \n",
            "A value is trying to be set on a copy of a slice from a DataFrame.\n",
            "Try using .loc[row_indexer,col_indexer] = value instead\n",
            "\n",
            "See the caveats in the documentation: https://pandas.pydata.org/pandas-docs/stable/user_guide/indexing.html#returning-a-view-versus-a-copy\n",
            "  con['day'] = con['date'].dt.day\n",
            "<ipython-input-377-72fb28369dc9>:13: SettingWithCopyWarning: \n",
            "A value is trying to be set on a copy of a slice from a DataFrame.\n",
            "Try using .loc[row_indexer,col_indexer] = value instead\n",
            "\n",
            "See the caveats in the documentation: https://pandas.pydata.org/pandas-docs/stable/user_guide/indexing.html#returning-a-view-versus-a-copy\n",
            "  con['season'] = con['month'].apply(lambda x: 'spring' if 3 <= x < 6 else 'summer' if 6 <= x < 9 else 'fall' if 9 <= x < 12 else 'winter')\n",
            "<ipython-input-377-72fb28369dc9>:14: SettingWithCopyWarning: \n",
            "A value is trying to be set on a copy of a slice from a DataFrame.\n",
            "Try using .loc[row_indexer,col_indexer] = value instead\n",
            "\n",
            "See the caveats in the documentation: https://pandas.pydata.org/pandas-docs/stable/user_guide/indexing.html#returning-a-view-versus-a-copy\n",
            "  con['7day_avg_inHd'] = con['inHd'].rolling(window=7).mean()\n",
            "<ipython-input-377-72fb28369dc9>:17: SettingWithCopyWarning: \n",
            "A value is trying to be set on a copy of a slice from a DataFrame\n",
            "\n",
            "See the caveats in the documentation: https://pandas.pydata.org/pandas-docs/stable/user_guide/indexing.html#returning-a-view-versus-a-copy\n",
            "  con.dropna(subset=['7day_avg_inTp', '7day_avg_inHd'], inplace=True)\n"
          ]
        }
      ]
    },
    {
      "cell_type": "code",
      "source": [
        "con.columns"
      ],
      "metadata": {
        "colab": {
          "base_uri": "https://localhost:8080/"
        },
        "id": "Pa-mfwpwOmAP",
        "outputId": "83485ba0-666b-4bb4-c650-4d7f51fcc293"
      },
      "execution_count": 378,
      "outputs": [
        {
          "output_type": "execute_result",
          "data": {
            "text/plain": [
              "Index(['date', 'inTp', 'inHd', 'otmsuplyqy', 'acSlrdQy', 'cunt', 'ph', 'outTp',\n",
              "       'outWs', 'inCo2', 'ec', 'frmYear', 'frmWeek', 'frtstGrupp', 'flanGrupp',\n",
              "       'frtstCo', 'frmhsFclu', 'hvstGrupp', 'grwtLt', 'fcluHg', 'lefLt',\n",
              "       'hvstCo', 'lefCunt', 'lefBt', 'stemThck', 'frmAr', 'frmDov',\n",
              "       'outtrn_cumsum', 'temp_difference', 'sunlight_per_watering',\n",
              "       '7day_avg_inTp', 'temp_humidity_interaction', 'month', 'day',\n",
              "       '7day_avg_inHd', 'season_fall', 'season_spring', 'season_summer',\n",
              "       'season_winter', 'daily_temp_change', 'daily_humidity_change',\n",
              "       'acSlrdQy_lag1', 'sunlight_to_otmsuplyqy_ratio'],\n",
              "      dtype='object')"
            ]
          },
          "metadata": {},
          "execution_count": 378
        }
      ]
    },
    {
      "cell_type": "code",
      "source": [
        "nan_rows = con[con.isnull().any(axis=1)]\n",
        "print(nan_rows)"
      ],
      "metadata": {
        "colab": {
          "base_uri": "https://localhost:8080/"
        },
        "id": "lbCS7t1jF7P0",
        "outputId": "f38f7fd4-5c66-4255-c0f6-35dcd561f0f9"
      },
      "execution_count": 379,
      "outputs": [
        {
          "output_type": "stream",
          "name": "stdout",
          "text": [
            "Empty DataFrame\n",
            "Columns: [date, inTp, inHd, otmsuplyqy, acSlrdQy, cunt, ph, outTp, outWs, inCo2, ec, frmYear, frmWeek, frtstGrupp, flanGrupp, frtstCo, frmhsFclu, hvstGrupp, grwtLt, fcluHg, lefLt, hvstCo, lefCunt, lefBt, stemThck, frmAr, frmDov, outtrn_cumsum, temp_difference, sunlight_per_watering, 7day_avg_inTp, temp_humidity_interaction, month, day, 7day_avg_inHd, season_fall, season_spring, season_summer, season_winter, daily_temp_change, daily_humidity_change, acSlrdQy_lag1, sunlight_to_otmsuplyqy_ratio]\n",
            "Index: []\n",
            "\n",
            "[0 rows x 43 columns]\n"
          ]
        }
      ]
    },
    {
      "cell_type": "code",
      "source": [
        "def calculate_ratio(df, numerator, denominator, new_column_name):\n",
        "    df[new_column_name] = np.where(df[denominator] != 0, df[numerator] / df[denominator], 0)\n",
        "    return df\n",
        "\n",
        "def calculate_rolling_average(df, column, window_size=7):\n",
        "    return df[column].rolling(window=window_size).mean().fillna(method='ffill')\n",
        "\n",
        "def calculate_rolling_std(df, column, window_size=7):\n",
        "    return df[column].rolling(window=window_size).std()\n",
        "\n",
        "def calculate_recent_trend(df, column, window_size=7):\n",
        "    return df[column] - df[column].rolling(window=window_size).mean()\n",
        "\n",
        "cost = calculate_ratio(cost, 'CO2Cost', 'CO2Usage', 'CO2_Usage_Cost_Ratio')\n",
        "cost = calculate_ratio(cost, 'Mist Cost', 'MistUsageTime', 'Mist_Time_Cost_Ratio')\n",
        "\n",
        "# 통계적 집계\n",
        "cost['7day_avg_WaterUsage'] = calculate_rolling_average(cost, 'WaterUsage')\n",
        "cost['7day_avg_FertilizerUsage'] = calculate_rolling_average(cost, 'FertilizerUsage')\n",
        "cost['7day_avg_CO2Usage'] = calculate_rolling_average(cost, 'CO2Usage')\n",
        "\n",
        "# 다항/상호작용 파생 변수 생성\n",
        "cost['ph_ec_interaction'] = cost['ph'] * cost['ec']\n",
        "\n",
        "# 날짜 처리\n",
        "cost['date'] = pd.to_datetime(cost['date'], format='%Y%m%d')\n",
        "\n",
        "# 추가 파생 변수 생성\n",
        "cost['7day_WaterUsage_Volatility'] = calculate_rolling_std(cost, 'WaterUsage')\n",
        "cost['7day_FertilizerUsage_Volatility'] = calculate_rolling_std(cost, 'FertilizerUsage')\n",
        "cost['WaterUsage_Recent_Trend'] = calculate_recent_trend(cost, 'WaterUsage')\n",
        "cost['FertilizerUsage_Recent_Trend'] = calculate_recent_trend(cost, 'FertilizerUsage')\n",
        "\n",
        "# 일부 NaN 값 처리\n",
        "required_columns = ['7day_avg_WaterUsage', '7day_avg_FertilizerUsage', '7day_avg_CO2Usage', '7day_WaterUsage_Volatility',\n",
        "                    '7day_FertilizerUsage_Volatility', 'WaterUsage_Recent_Trend', 'FertilizerUsage_Recent_Trend']\n",
        "cost = cost.dropna(subset=required_columns)\n",
        "\n",
        "# 예: 물 사용량이 처음 발생한 날부터의 경과일\n",
        "first_water_usage_date = cost[cost['WaterUsage'] > 0]['date'].iloc[0]\n",
        "cost['Days_Since_First_WaterUsage'] = (cost['date'] - first_water_usage_date).dt.days\n",
        "\n",
        "# 물 사용량 대비 CO2 사용량의 비율\n",
        "cost = calculate_ratio(cost, 'WaterUsage', 'CO2Usage', 'Water_to_CO2_Usage_Ratio')\n",
        "\n",
        "# 비료 사용량 대비 물 사용량의 비율\n",
        "cost = calculate_ratio(cost, 'FertilizerUsage', 'WaterUsage', 'Fertilizer_to_Water_Usage_Ratio')\n",
        "\n",
        "# 요일 정보 추가 (0: 월요일, 6: 일요일)\n",
        "cost['day_of_week'] = cost['date'].dt.dayofweek\n",
        "\n",
        "# 하루 평균 Mist 사용 시간\n",
        "cost['avg_mist_usage_per_day'] = cost['MistUsageTime'] / (cost['date'].diff().dt.days.fillna(0) + 1)\n",
        "\n",
        "# 결과 확인\n",
        "print(cost.head())"
      ],
      "metadata": {
        "colab": {
          "base_uri": "https://localhost:8080/"
        },
        "id": "x6npQikvR1Gb",
        "outputId": "a6698819-14ab-4e27-a7a1-b6f704c9d324"
      },
      "execution_count": 380,
      "outputs": [
        {
          "output_type": "stream",
          "name": "stdout",
          "text": [
            "            date   ph   ec  frtstCo     tcdmt      grwtLt  fcluHg  lefLt  \\\n",
            "18351 2022-09-26  0.0  0.0      0.0  6.973377   23.358008     0.0    0.0   \n",
            "18423 2022-09-26  0.0  0.0      0.0  7.249897   19.466223     0.0    0.0   \n",
            "55504 2022-09-26  0.0  0.0      0.0  6.898958  192.370414     0.0    0.0   \n",
            "3563  2022-09-26  0.0  0.0      0.0  8.454030   17.550623     0.0    0.0   \n",
            "3994  2022-09-26  0.0  0.0      0.0  8.571427  211.112435     0.0    0.0   \n",
            "\n",
            "       lefCunt  lefBt  ...  ph_ec_interaction  7day_WaterUsage_Volatility  \\\n",
            "18351      0.0    0.0  ...                0.0                         0.0   \n",
            "18423      0.0    0.0  ...                0.0                         0.0   \n",
            "55504      0.0    0.0  ...                0.0                         0.0   \n",
            "3563       0.0    0.0  ...                0.0                         0.0   \n",
            "3994       0.0    0.0  ...                0.0                         0.0   \n",
            "\n",
            "       7day_FertilizerUsage_Volatility  WaterUsage_Recent_Trend  \\\n",
            "18351                              0.0                      0.0   \n",
            "18423                              0.0                      0.0   \n",
            "55504                              0.0                      0.0   \n",
            "3563                               0.0                      0.0   \n",
            "3994                               0.0                      0.0   \n",
            "\n",
            "       FertilizerUsage_Recent_Trend  Days_Since_First_WaterUsage  \\\n",
            "18351                           0.0                           -5   \n",
            "18423                           0.0                           -5   \n",
            "55504                           0.0                           -5   \n",
            "3563                            0.0                           -5   \n",
            "3994                            0.0                           -5   \n",
            "\n",
            "       Water_to_CO2_Usage_Ratio  Fertilizer_to_Water_Usage_Ratio  day_of_week  \\\n",
            "18351                       0.0                              0.0            0   \n",
            "18423                       0.0                              0.0            0   \n",
            "55504                       0.0                              0.0            0   \n",
            "3563                        0.0                              0.0            0   \n",
            "3994                        0.0                              0.0            0   \n",
            "\n",
            "       avg_mist_usage_per_day  \n",
            "18351                     0.0  \n",
            "18423                     0.0  \n",
            "55504                     0.0  \n",
            "3563                      0.0  \n",
            "3994                      0.0  \n",
            "\n",
            "[5 rows x 37 columns]\n"
          ]
        },
        {
          "output_type": "stream",
          "name": "stderr",
          "text": [
            "<ipython-input-380-5b33ceb34b93>:2: SettingWithCopyWarning: \n",
            "A value is trying to be set on a copy of a slice from a DataFrame.\n",
            "Try using .loc[row_indexer,col_indexer] = value instead\n",
            "\n",
            "See the caveats in the documentation: https://pandas.pydata.org/pandas-docs/stable/user_guide/indexing.html#returning-a-view-versus-a-copy\n",
            "  df[new_column_name] = np.where(df[denominator] != 0, df[numerator] / df[denominator], 0)\n",
            "<ipython-input-380-5b33ceb34b93>:2: SettingWithCopyWarning: \n",
            "A value is trying to be set on a copy of a slice from a DataFrame.\n",
            "Try using .loc[row_indexer,col_indexer] = value instead\n",
            "\n",
            "See the caveats in the documentation: https://pandas.pydata.org/pandas-docs/stable/user_guide/indexing.html#returning-a-view-versus-a-copy\n",
            "  df[new_column_name] = np.where(df[denominator] != 0, df[numerator] / df[denominator], 0)\n",
            "<ipython-input-380-5b33ceb34b93>:18: SettingWithCopyWarning: \n",
            "A value is trying to be set on a copy of a slice from a DataFrame.\n",
            "Try using .loc[row_indexer,col_indexer] = value instead\n",
            "\n",
            "See the caveats in the documentation: https://pandas.pydata.org/pandas-docs/stable/user_guide/indexing.html#returning-a-view-versus-a-copy\n",
            "  cost['7day_avg_WaterUsage'] = calculate_rolling_average(cost, 'WaterUsage')\n",
            "<ipython-input-380-5b33ceb34b93>:19: SettingWithCopyWarning: \n",
            "A value is trying to be set on a copy of a slice from a DataFrame.\n",
            "Try using .loc[row_indexer,col_indexer] = value instead\n",
            "\n",
            "See the caveats in the documentation: https://pandas.pydata.org/pandas-docs/stable/user_guide/indexing.html#returning-a-view-versus-a-copy\n",
            "  cost['7day_avg_FertilizerUsage'] = calculate_rolling_average(cost, 'FertilizerUsage')\n",
            "<ipython-input-380-5b33ceb34b93>:20: SettingWithCopyWarning: \n",
            "A value is trying to be set on a copy of a slice from a DataFrame.\n",
            "Try using .loc[row_indexer,col_indexer] = value instead\n",
            "\n",
            "See the caveats in the documentation: https://pandas.pydata.org/pandas-docs/stable/user_guide/indexing.html#returning-a-view-versus-a-copy\n",
            "  cost['7day_avg_CO2Usage'] = calculate_rolling_average(cost, 'CO2Usage')\n",
            "<ipython-input-380-5b33ceb34b93>:23: SettingWithCopyWarning: \n",
            "A value is trying to be set on a copy of a slice from a DataFrame.\n",
            "Try using .loc[row_indexer,col_indexer] = value instead\n",
            "\n",
            "See the caveats in the documentation: https://pandas.pydata.org/pandas-docs/stable/user_guide/indexing.html#returning-a-view-versus-a-copy\n",
            "  cost['ph_ec_interaction'] = cost['ph'] * cost['ec']\n",
            "<ipython-input-380-5b33ceb34b93>:26: SettingWithCopyWarning: \n",
            "A value is trying to be set on a copy of a slice from a DataFrame.\n",
            "Try using .loc[row_indexer,col_indexer] = value instead\n",
            "\n",
            "See the caveats in the documentation: https://pandas.pydata.org/pandas-docs/stable/user_guide/indexing.html#returning-a-view-versus-a-copy\n",
            "  cost['date'] = pd.to_datetime(cost['date'], format='%Y%m%d')\n",
            "<ipython-input-380-5b33ceb34b93>:29: SettingWithCopyWarning: \n",
            "A value is trying to be set on a copy of a slice from a DataFrame.\n",
            "Try using .loc[row_indexer,col_indexer] = value instead\n",
            "\n",
            "See the caveats in the documentation: https://pandas.pydata.org/pandas-docs/stable/user_guide/indexing.html#returning-a-view-versus-a-copy\n",
            "  cost['7day_WaterUsage_Volatility'] = calculate_rolling_std(cost, 'WaterUsage')\n",
            "<ipython-input-380-5b33ceb34b93>:30: SettingWithCopyWarning: \n",
            "A value is trying to be set on a copy of a slice from a DataFrame.\n",
            "Try using .loc[row_indexer,col_indexer] = value instead\n",
            "\n",
            "See the caveats in the documentation: https://pandas.pydata.org/pandas-docs/stable/user_guide/indexing.html#returning-a-view-versus-a-copy\n",
            "  cost['7day_FertilizerUsage_Volatility'] = calculate_rolling_std(cost, 'FertilizerUsage')\n",
            "<ipython-input-380-5b33ceb34b93>:31: SettingWithCopyWarning: \n",
            "A value is trying to be set on a copy of a slice from a DataFrame.\n",
            "Try using .loc[row_indexer,col_indexer] = value instead\n",
            "\n",
            "See the caveats in the documentation: https://pandas.pydata.org/pandas-docs/stable/user_guide/indexing.html#returning-a-view-versus-a-copy\n",
            "  cost['WaterUsage_Recent_Trend'] = calculate_recent_trend(cost, 'WaterUsage')\n",
            "<ipython-input-380-5b33ceb34b93>:32: SettingWithCopyWarning: \n",
            "A value is trying to be set on a copy of a slice from a DataFrame.\n",
            "Try using .loc[row_indexer,col_indexer] = value instead\n",
            "\n",
            "See the caveats in the documentation: https://pandas.pydata.org/pandas-docs/stable/user_guide/indexing.html#returning-a-view-versus-a-copy\n",
            "  cost['FertilizerUsage_Recent_Trend'] = calculate_recent_trend(cost, 'FertilizerUsage')\n",
            "<ipython-input-380-5b33ceb34b93>:41: SettingWithCopyWarning: \n",
            "A value is trying to be set on a copy of a slice from a DataFrame.\n",
            "Try using .loc[row_indexer,col_indexer] = value instead\n",
            "\n",
            "See the caveats in the documentation: https://pandas.pydata.org/pandas-docs/stable/user_guide/indexing.html#returning-a-view-versus-a-copy\n",
            "  cost['Days_Since_First_WaterUsage'] = (cost['date'] - first_water_usage_date).dt.days\n",
            "<ipython-input-380-5b33ceb34b93>:2: SettingWithCopyWarning: \n",
            "A value is trying to be set on a copy of a slice from a DataFrame.\n",
            "Try using .loc[row_indexer,col_indexer] = value instead\n",
            "\n",
            "See the caveats in the documentation: https://pandas.pydata.org/pandas-docs/stable/user_guide/indexing.html#returning-a-view-versus-a-copy\n",
            "  df[new_column_name] = np.where(df[denominator] != 0, df[numerator] / df[denominator], 0)\n",
            "<ipython-input-380-5b33ceb34b93>:2: SettingWithCopyWarning: \n",
            "A value is trying to be set on a copy of a slice from a DataFrame.\n",
            "Try using .loc[row_indexer,col_indexer] = value instead\n",
            "\n",
            "See the caveats in the documentation: https://pandas.pydata.org/pandas-docs/stable/user_guide/indexing.html#returning-a-view-versus-a-copy\n",
            "  df[new_column_name] = np.where(df[denominator] != 0, df[numerator] / df[denominator], 0)\n",
            "<ipython-input-380-5b33ceb34b93>:50: SettingWithCopyWarning: \n",
            "A value is trying to be set on a copy of a slice from a DataFrame.\n",
            "Try using .loc[row_indexer,col_indexer] = value instead\n",
            "\n",
            "See the caveats in the documentation: https://pandas.pydata.org/pandas-docs/stable/user_guide/indexing.html#returning-a-view-versus-a-copy\n",
            "  cost['day_of_week'] = cost['date'].dt.dayofweek\n"
          ]
        }
      ]
    },
    {
      "cell_type": "code",
      "source": [
        "cost.columns"
      ],
      "metadata": {
        "colab": {
          "base_uri": "https://localhost:8080/"
        },
        "id": "U2UN8QgZOoUE",
        "outputId": "b0d3ca0e-295b-4b5b-e4aa-c1e23129230a"
      },
      "execution_count": 381,
      "outputs": [
        {
          "output_type": "execute_result",
          "data": {
            "text/plain": [
              "Index(['date', 'ph', 'ec', 'frtstCo', 'tcdmt', 'grwtLt', 'fcluHg', 'lefLt',\n",
              "       'lefCunt', 'lefBt', 'frmAr', 'frmDov', 'outtrn_cumsum', 'WaterUsage',\n",
              "       'WaterCost', 'FertilizerUsage', 'FertilizerCost', 'CO2Usage', 'CO2Cost',\n",
              "       'MistUsageTime', 'Mist Cost', 'HeatingEnergyUsage_cumsum',\n",
              "       'CO2_Usage_Cost_Ratio', 'Mist_Time_Cost_Ratio', '7day_avg_WaterUsage',\n",
              "       '7day_avg_FertilizerUsage', '7day_avg_CO2Usage', 'ph_ec_interaction',\n",
              "       '7day_WaterUsage_Volatility', '7day_FertilizerUsage_Volatility',\n",
              "       'WaterUsage_Recent_Trend', 'FertilizerUsage_Recent_Trend',\n",
              "       'Days_Since_First_WaterUsage', 'Water_to_CO2_Usage_Ratio',\n",
              "       'Fertilizer_to_Water_Usage_Ratio', 'day_of_week',\n",
              "       'avg_mist_usage_per_day'],\n",
              "      dtype='object')"
            ]
          },
          "metadata": {},
          "execution_count": 381
        }
      ]
    },
    {
      "cell_type": "markdown",
      "source": [
        "# memo\n",
        "- 연도 빼고 월일로 패턴 대응 해보기\n",
        "- 2017~2022 패턴비교\n",
        "- 2018~2022 패턴비교\n",
        "- 2019~2022 패턴비교"
      ],
      "metadata": {
        "id": "w8xNmrwUSbSA"
      }
    },
    {
      "cell_type": "code",
      "source": [
        "# import matplotlib.pyplot as plt\n",
        "# import seaborn as sns\n",
        "\n",
        "# # 연도별 con 데이터 분리\n",
        "# con_17 = con[con['date'].dt.year == 2017]\n",
        "# con_18 = con[con['date'].dt.year == 2018]\n",
        "# con_19 = con[con['date'].dt.year == 2019]\n",
        "\n",
        "# # 라인 플롯 (예: outtrn_cumsum와 HeatingEnergyUsage_cumsum 비교)\n",
        "# plt.figure(figsize=(30, 3))\n",
        "# plt.plot(con_17['date'].dt.strftime('%m-%d'), con_17['outtrn_cumsum'], label='con_17')\n",
        "# plt.plot(con_18['date'].dt.strftime('%m-%d'), con_18['outtrn_cumsum'], label='con_18')\n",
        "# plt.plot(con_19['date'].dt.strftime('%m-%d'), con_19['outtrn_cumsum'], label='con_19')\n",
        "# plt.plot(cost['date'].dt.strftime('%m-%d'), cost['HeatingEnergyUsage_cumsum'], label='cost_22', color='red')\n",
        "\n",
        "# # X축, Y축 및 타이틀 라벨 추가\n",
        "# plt.xlabel('Date (Month)')\n",
        "# plt.ylabel('Cumulative Sum Value')\n",
        "# plt.title('Comparison between con (2017-2019) and cost (2022)')\n",
        "\n",
        "# # 월 단위로 x축 눈금 조절\n",
        "# months = [\"01-01\", \"02-01\", \"03-01\", \"04-01\", \"05-01\", \"06-01\", \"07-01\", \"08-01\", \"09-01\", \"10-01\", \"11-01\", \"12-01\"]\n",
        "# plt.xticks(months, labels=['Jan', 'Feb', 'Mar', 'Apr', 'May', 'Jun', 'Jul', 'Aug', 'Sep', 'Oct', 'Nov', 'Dec'])\n",
        "\n",
        "# plt.legend()\n",
        "# plt.show()"
      ],
      "metadata": {
        "id": "5MjzelvgUI6x"
      },
      "execution_count": 325,
      "outputs": []
    },
    {
      "cell_type": "code",
      "source": [
        "# import matplotlib.pyplot as plt\n",
        "\n",
        "# # 연도별 con 데이터 분리\n",
        "# con_17 = con[con['date'].dt.year == 2017]\n",
        "# con_18 = con[con['date'].dt.year == 2018]\n",
        "# con_19 = con[con['date'].dt.year == 2019]\n",
        "\n",
        "# # 월별로 데이터를 분리하고 각각의 월에 대한 그래프 그리기\n",
        "# months = range(1, 13)\n",
        "# month_names = ['January', 'February', 'March', 'April', 'May', 'June', 'July', 'August', 'September', 'October', 'November', 'December']\n",
        "\n",
        "# plt.figure(figsize=(20, 30))\n",
        "\n",
        "# for i, month in enumerate(months):\n",
        "#     ax1 = plt.subplot(6, 2, i+1)  # 6 rows, 2 columns for 12 months\n",
        "\n",
        "#     mask_17 = (con_17['date'].dt.month == month)\n",
        "#     mask_18 = (con_18['date'].dt.month == month)\n",
        "#     mask_19 = (con_19['date'].dt.month == month)\n",
        "#     mask_cost = (cost['date'].dt.month == month)\n",
        "\n",
        "#     ax1.plot(con_17[mask_17]['date'].dt.strftime('%d'), con_17[mask_17]['outtrn_cumsum'], label='con_17')\n",
        "#     ax1.plot(con_18[mask_18]['date'].dt.strftime('%d'), con_18[mask_18]['outtrn_cumsum'], label='con_18')\n",
        "#     ax1.plot(con_19[mask_19]['date'].dt.strftime('%d'), con_19[mask_19]['outtrn_cumsum'], label='con_19')\n",
        "#     ax1.set_xlabel('Day')\n",
        "#     ax1.set_ylabel('outtrn_cumsum', color='blue')\n",
        "#     ax1.tick_params('y', colors='blue')\n",
        "#     ax1.legend(loc='upper left')\n",
        "\n",
        "#     ax2 = ax1.twinx()  # instantiate a second axes that shares the same x-axis\n",
        "#     ax2.plot(cost[mask_cost]['date'].dt.strftime('%d'), cost[mask_cost]['HeatingEnergyUsage_cumsum'], label='cost_22', color='red')\n",
        "#     ax2.set_ylabel('HeatingEnergyUsage_cumsum', color='red')\n",
        "#     ax2.tick_params('y', colors='red')\n",
        "#     ax2.legend(loc='upper right')\n",
        "\n",
        "#     plt.title(month_names[i])\n",
        "\n",
        "# plt.tight_layout()\n",
        "# plt.show()"
      ],
      "metadata": {
        "id": "NccNio94YKNl"
      },
      "execution_count": 326,
      "outputs": []
    },
    {
      "cell_type": "markdown",
      "source": [
        "# 훈련/테스트 데이터셋 생성"
      ],
      "metadata": {
        "id": "Y8C5S6km31eQ"
      }
    },
    {
      "cell_type": "code",
      "source": [
        "# 모든 컬럼 리스트 생성\n",
        "all_columns = set(con.columns).union(set(cost.columns))\n",
        "\n",
        "# 각 데이터 프레임에 없는 컬럼을 0으로 채우기\n",
        "for column in all_columns:\n",
        "    if column not in con.columns:\n",
        "        con[column] = 0\n",
        "    if column not in cost.columns:\n",
        "        cost[column] = 0\n",
        "\n",
        "# 두 데이터 프레임 합치기\n",
        "combined_df = pd.concat([con, cost], axis=0).sort_values(by='date').reset_index(drop=True)\n",
        "\n",
        "# 'date' 컬럼을 사용하여 'year', 'month', 'day' 컬럼 생성\n",
        "combined_df['year'] = combined_df['date'].dt.year\n",
        "combined_df['month'] = combined_df['date'].dt.month\n",
        "combined_df['day'] = combined_df['date'].dt.day\n",
        "\n",
        "# 'date' 컬럼 타입 변경 (필요한 경우에만)\n",
        "combined_df['date'] = combined_df['date'].astype(int)\n",
        "\n",
        "print(combined_df[['year', 'month', 'day']].head())"
      ],
      "metadata": {
        "colab": {
          "base_uri": "https://localhost:8080/"
        },
        "id": "bqbg1NSSai1H",
        "outputId": "8701d752-bbde-4255-855e-0b5885b528b2"
      },
      "execution_count": 382,
      "outputs": [
        {
          "output_type": "stream",
          "name": "stdout",
          "text": [
            "   year  month  day\n",
            "0  2017      7    9\n",
            "1  2017      7    9\n",
            "2  2017      7    9\n",
            "3  2017      7    9\n",
            "4  2017      7    9\n"
          ]
        }
      ]
    },
    {
      "cell_type": "code",
      "source": [
        "from sklearn.model_selection import train_test_split\n",
        "\n",
        "# Split the data into training and testing sets\n",
        "X = combined_df[combined_df.drop(columns=['outtrn_cumsum','HeatingEnergyUsage_cumsum']).columns]\n",
        "Y = combined_df[['outtrn_cumsum','HeatingEnergyUsage_cumsum']]\n",
        "X_train, X_test, y_train, y_test = train_test_split(\n",
        "    X, Y, test_size=0.2, random_state=42\n",
        ")"
      ],
      "metadata": {
        "id": "0-bwyh0s2Egg"
      },
      "execution_count": 383,
      "outputs": []
    },
    {
      "cell_type": "code",
      "source": [
        "X.columns #파생변수 O"
      ],
      "metadata": {
        "colab": {
          "base_uri": "https://localhost:8080/"
        },
        "id": "Y-ZyZBdi2aBK",
        "outputId": "0c3fae2c-fbfa-42bb-e83f-d4abd6af2ab2"
      },
      "execution_count": 384,
      "outputs": [
        {
          "output_type": "execute_result",
          "data": {
            "text/plain": [
              "Index(['date', 'inTp', 'inHd', 'otmsuplyqy', 'acSlrdQy', 'cunt', 'ph', 'outTp',\n",
              "       'outWs', 'inCo2', 'ec', 'frmYear', 'frmWeek', 'frtstGrupp', 'flanGrupp',\n",
              "       'frtstCo', 'frmhsFclu', 'hvstGrupp', 'grwtLt', 'fcluHg', 'lefLt',\n",
              "       'hvstCo', 'lefCunt', 'lefBt', 'stemThck', 'frmAr', 'frmDov',\n",
              "       'temp_difference', 'sunlight_per_watering', '7day_avg_inTp',\n",
              "       'temp_humidity_interaction', 'month', 'day', '7day_avg_inHd',\n",
              "       'season_fall', 'season_spring', 'season_summer', 'season_winter',\n",
              "       'daily_temp_change', 'daily_humidity_change', 'acSlrdQy_lag1',\n",
              "       'sunlight_to_otmsuplyqy_ratio', '7day_WaterUsage_Volatility',\n",
              "       'WaterUsage_Recent_Trend', 'Fertilizer_to_Water_Usage_Ratio',\n",
              "       'day_of_week', 'Water_to_CO2_Usage_Ratio', 'CO2Usage', 'Mist Cost',\n",
              "       'Mist_Time_Cost_Ratio', 'Days_Since_First_WaterUsage', 'tcdmt',\n",
              "       'WaterUsage', 'WaterCost', 'CO2_Usage_Cost_Ratio', 'FertilizerUsage',\n",
              "       'MistUsageTime', '7day_avg_WaterUsage', 'CO2Cost',\n",
              "       '7day_FertilizerUsage_Volatility', '7day_avg_CO2Usage',\n",
              "       'avg_mist_usage_per_day', 'ph_ec_interaction', 'FertilizerCost',\n",
              "       '7day_avg_FertilizerUsage', 'FertilizerUsage_Recent_Trend', 'year'],\n",
              "      dtype='object')"
            ]
          },
          "metadata": {},
          "execution_count": 384
        }
      ]
    },
    {
      "cell_type": "code",
      "source": [
        "# from sklearn.model_selection import train_test_split\n",
        "\n",
        "# # Split the data into training and testing sets\n",
        "# X = combined_df[df.drop(columns=['outtrn_cumsum','HeatingEnergyUsage_cumsum']).columns]\n",
        "# Y = combined_df[['outtrn_cumsum','HeatingEnergyUsage_cumsum']]\n",
        "# X_train, X_test, y_train, y_test = train_test_split(\n",
        "#     X, Y, test_size=0.2, random_state=42\n",
        "# )"
      ],
      "metadata": {
        "id": "yP064z-JyLKO"
      },
      "execution_count": 341,
      "outputs": []
    },
    {
      "cell_type": "code",
      "source": [
        "# X.columns # 파생변수 X"
      ],
      "metadata": {
        "id": "smxVCcOR2w-w"
      },
      "execution_count": 342,
      "outputs": []
    },
    {
      "cell_type": "markdown",
      "source": [
        "# 모델 정의 및 학습, 예측"
      ],
      "metadata": {
        "id": "o_BRoD9E35HF"
      }
    },
    {
      "cell_type": "code",
      "source": [
        "from sklearn.ensemble import RandomForestRegressor\n",
        "\n",
        "# Initialize and train the LinearRegression model\n",
        "model = RandomForestRegressor()\n",
        "model.fit(X_train, y_train)\n",
        "\n",
        "# Predict 'y' values using the trained model\n",
        "y_pred = model.predict(X_test)"
      ],
      "metadata": {
        "id": "e6lcT-5bp3sf"
      },
      "execution_count": 385,
      "outputs": []
    },
    {
      "cell_type": "code",
      "source": [
        "# from sklearn.feature_selection import RFECV\n",
        "# from sklearn.ensemble import RandomForestRegressor\n",
        "\n",
        "# # RandomForestRegressor를 estimator로 사용\n",
        "# estimator = RandomForestRegressor(oob_score=True)\n",
        "# selector = RFECV(estimator, step=1, cv=5, scoring='neg_mean_squared_error', n_jobs=-1)\n",
        "\n",
        "# selector = selector.fit(X_train, y_train)\n",
        "\n",
        "# # 선택된 변수만 사용하기 위해 데이터 변환\n",
        "# X_train_selected = selector.transform(X_train)\n",
        "# X_test_selected = selector.transform(X_test)\n",
        "\n",
        "# # 선택된 변수에 대한 성능 평가\n",
        "# model = RandomForestRegressor()\n",
        "# model.fit(X_train_selected, y_train)\n",
        "# y_pred = model.predict(X_test_selected)"
      ],
      "metadata": {
        "id": "W-5QrluBp0Fg"
      },
      "execution_count": 333,
      "outputs": []
    },
    {
      "cell_type": "markdown",
      "source": [
        "# 변수 중요도"
      ],
      "metadata": {
        "id": "7F7Vv_U5dlDk"
      }
    },
    {
      "cell_type": "code",
      "source": [
        "# 피처 중요도 가져오기\n",
        "feature_importances = model.feature_importances_\n",
        "\n",
        "# 중요도와 피처 이름을 DataFrame으로 변환\n",
        "importance_df = pd.DataFrame({\n",
        "    'Feature': X_train.columns,\n",
        "    'Importance': feature_importances\n",
        "})\n",
        "\n",
        "# 중요도를 기준으로 내림차순 정렬\n",
        "importance_df = importance_df.sort_values(by='Importance', ascending=False)\n",
        "\n",
        "# Scientific notation 없이 출력\n",
        "pd.set_option('display.float_format', lambda x: '%.5f' % x)  # 여기서는 소수점 다섯 번째 자리까지 출력하도록 설정했습니다.\n",
        "\n",
        "# 중요도 리스트 출력\n",
        "print(importance_df)\n",
        "\n",
        "# 출력 옵션을 기본값으로 되돌리기 (필요한 경우에만)\n",
        "pd.reset_option('display.float_format')"
      ],
      "metadata": {
        "colab": {
          "base_uri": "https://localhost:8080/"
        },
        "id": "iXegCxAQdnd4",
        "outputId": "202e3653-967c-4fc6-efaa-2b32b41d42ba"
      },
      "execution_count": 386,
      "outputs": [
        {
          "output_type": "stream",
          "name": "stdout",
          "text": [
            "                        Feature  Importance\n",
            "0                          date     0.46966\n",
            "50  Days_Since_First_WaterUsage     0.35269\n",
            "31                        month     0.04955\n",
            "60            7day_avg_CO2Usage     0.01837\n",
            "32                          day     0.01802\n",
            "..                          ...         ...\n",
            "30    temp_humidity_interaction     0.00000\n",
            "37                season_winter     0.00000\n",
            "24                     stemThck     0.00000\n",
            "21                       hvstCo     0.00000\n",
            "34                  season_fall     0.00000\n",
            "\n",
            "[67 rows x 2 columns]\n"
          ]
        }
      ]
    },
    {
      "cell_type": "code",
      "source": [
        "# # 임계치 설정 (예: 중요도 0.01 이하의 피처를 제거)\n",
        "# threshold = 0.00028\n",
        "# cols_to_drop = importance_df[importance_df['Importance'] <= threshold]['Feature'].tolist()\n",
        "\n",
        "# # 피처 제거\n",
        "# X_train = X_train.drop(columns=cols_to_drop)\n",
        "# X_test = X_test.drop(columns=cols_to_drop)\n",
        "\n",
        "# print(\"\\nDropped columns:\", cols_to_drop)\n",
        "\n",
        "# 임계치 설정 (예: 중요도 0.01 이하의 피처를 제거)\n",
        "threshold = 0.00028\n",
        "cols_to_drop = importance_df[importance_df['Importance'] <= threshold]['Feature'].tolist()\n",
        "\n",
        "# X_train과 X_test에 존재하는 컬럼만 드랍 목록에서 선택\n",
        "cols_to_drop = [col for col in cols_to_drop if col in X_train.columns and col in X_test.columns]\n",
        "\n",
        "# 피처 제거\n",
        "X_train = X_train.drop(columns=cols_to_drop)\n",
        "X_test = X_test.drop(columns=cols_to_drop)\n",
        "\n",
        "print(\"\\nDropped columns:\", cols_to_drop)"
      ],
      "metadata": {
        "colab": {
          "base_uri": "https://localhost:8080/"
        },
        "id": "5UJADR5_9pXy",
        "outputId": "04daf623-b4d8-4a98-8f69-3ebc7ff6cf07"
      },
      "execution_count": 387,
      "outputs": [
        {
          "output_type": "stream",
          "name": "stdout",
          "text": [
            "\n",
            "Dropped columns: ['ph', 'lefCunt', 'CO2_Usage_Cost_Ratio', 'lefBt', 'grwtLt', 'tcdmt', 'lefLt', 'ph_ec_interaction', 'outTp', 'ec', 'hvstGrupp', 'outWs', 'cunt', 'acSlrdQy', '7day_avg_inHd', 'frmYear', 'year', 'otmsuplyqy', 'sunlight_to_otmsuplyqy_ratio', 'inCo2', '7day_avg_inTp', 'frmhsFclu', 'frmDov', 'temp_difference', 'sunlight_per_watering', 'acSlrdQy_lag1', 'season_spring', 'daily_humidity_change', 'season_summer', 'inHd', 'frtstGrupp', 'flanGrupp', 'daily_temp_change', 'inTp', 'temp_humidity_interaction', 'season_winter', 'stemThck', 'hvstCo', 'season_fall']\n"
          ]
        }
      ]
    },
    {
      "cell_type": "markdown",
      "source": [
        "# 성능 평가"
      ],
      "metadata": {
        "id": "Ofjn6QeW37Bm"
      }
    },
    {
      "cell_type": "code",
      "source": [
        "# Calculate RMSE between the predictions and actual 'y' values\n",
        "def calculate_rmse(targets, predictions):\n",
        "    \"\"\"\n",
        "    Calculate the Root Mean Squared Error (RMSE) between predicted and target values.\n",
        "\n",
        "    :param predictions: Predicted values.\n",
        "    :type predictions: array-like\n",
        "    :param targets: Target values.\n",
        "    :type targets: array-like\n",
        "    :return: RMSE value.\n",
        "    :rtype: float\n",
        "    \"\"\"\n",
        "    from sklearn.metrics import mean_squared_error\n",
        "    return np.sqrt(mean_squared_error(targets, predictions))\n",
        "\n",
        "\n",
        "# Calculate r2_score between the predictions and actual 'y' values\n",
        "def calculate_R2_score(y_test,y_pred):\n",
        "    from sklearn.metrics import r2_score\n",
        "    return r2_score(y_test, y_pred)\n",
        "\n",
        "\n",
        "rmse = calculate_rmse(y_test, y_pred)\n",
        "r2score = calculate_R2_score(y_test, y_pred)\n",
        "\n",
        "# ------------------------------------------------\n",
        "### OUTPUT ###\n",
        "print(\"RMSE:\", rmse)\n",
        "print(\"R2_score:\", r2score)"
      ],
      "metadata": {
        "colab": {
          "base_uri": "https://localhost:8080/"
        },
        "id": "w2w9F3En3kxM",
        "outputId": "d95d7a63-cdb6-49c7-d611-26674e02de67"
      },
      "execution_count": 388,
      "outputs": [
        {
          "output_type": "stream",
          "name": "stdout",
          "text": [
            "RMSE: 38848.26329636181\n",
            "R2_score: 0.9929549851950317\n"
          ]
        }
      ]
    },
    {
      "cell_type": "code",
      "source": [],
      "metadata": {
        "id": "t-NRSrgkHaKF"
      },
      "execution_count": null,
      "outputs": []
    }
  ],
  "metadata": {
    "kernelspec": {
      "display_name": "Python 3",
      "language": "python",
      "name": "python3"
    },
    "language_info": {
      "codemirror_mode": {
        "name": "ipython",
        "version": 3
      },
      "file_extension": ".py",
      "mimetype": "text/x-python",
      "name": "python",
      "nbconvert_exporter": "python",
      "pygments_lexer": "ipython3",
      "version": "3.11.4"
    },
    "orig_nbformat": 4,
    "colab": {
      "provenance": []
    }
  },
  "nbformat": 4,
  "nbformat_minor": 0
}