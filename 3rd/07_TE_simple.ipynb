{
  "cells": [
    {
      "cell_type": "code",
      "execution_count": 1,
      "metadata": {
        "colab": {
          "base_uri": "https://localhost:8080/",
          "height": 52
        },
        "id": "Lzg9_pryJc7b",
        "outputId": "414e7168-efd6-4477-f498-526bdd56e011"
      },
      "outputs": [
        {
          "output_type": "execute_result",
          "data": {
            "text/plain": [
              "'\\n입출력 양식을 \\n준수해 주십시오\\n\\n###  INPUT ###\\nimport pandas as pd\\ninput_data = pd.read_csv(\\'SAMPLE_DATA.csv\\')\\n\\n{\\n    \\n        Write codes...\\n    \\n    Training model name : model\\n    ex) y_pred = model.predict(X_test)\\n    \\n\\n}\\n\\n\\n### OUTPUT ###\\nprint(\"RMSE:\", rmse)\\nprint(\"R2_score:\", r2score)\\n'"
            ],
            "application/vnd.google.colaboratory.intrinsic+json": {
              "type": "string"
            }
          },
          "metadata": {},
          "execution_count": 1
        }
      ],
      "source": [
        "#  -------------------------------------------\n",
        "\"\"\"\n",
        "입출력 양식을\n",
        "준수해 주십시오\n",
        "\n",
        "###  INPUT ###\n",
        "import pandas as pd\n",
        "input_data = pd.read_csv('SAMPLE_DATA.csv')\n",
        "\n",
        "{\n",
        "\n",
        "        Write codes...\n",
        "\n",
        "    Training model name : model\n",
        "    ex) y_pred = model.predict(X_test)\n",
        "\n",
        "\n",
        "}\n",
        "\n",
        "\n",
        "### OUTPUT ###\n",
        "print(\"RMSE:\", rmse)\n",
        "print(\"R2_score:\", r2score)\n",
        "\"\"\""
      ]
    },
    {
      "cell_type": "code",
      "execution_count": 18,
      "metadata": {
        "id": "RDgwq6d2Jc7j"
      },
      "outputs": [],
      "source": [
        "import pandas as pd\n",
        "import numpy as np\n",
        "\n",
        "from sklearn.model_selection import train_test_split\n",
        "from sklearn.ensemble import RandomForestRegressor, AdaBoostRegressor, ExtraTreesRegressor, GradientBoostingRegressor\n",
        "from sklearn.base import BaseEstimator, RegressorMixin\n",
        "from sklearn.multioutput import MultiOutputRegressor\n",
        "from sklearn.metrics import mean_squared_error, r2_score\n",
        "import xgboost as xgb\n",
        "import lightgbm as lgb\n",
        "\n",
        "from sklearn.tree import DecisionTreeRegressor\n",
        "from sklearn.ensemble import RandomForestRegressor, ExtraTreesRegressor, GradientBoostingRegressor\n",
        "from sklearn.experimental import enable_hist_gradient_boosting  # 이 줄은 아래 HistGradientBoostingRegressor를 사용하기 전에 필요합니다.\n",
        "from sklearn.ensemble import HistGradientBoostingRegressor"
      ]
    },
    {
      "cell_type": "code",
      "execution_count": 19,
      "metadata": {
        "colab": {
          "base_uri": "https://localhost:8080/"
        },
        "id": "-O6N8TpfJc7l",
        "outputId": "422b1ff3-82da-467a-fc7a-e0eb917256b1"
      },
      "outputs": [
        {
          "output_type": "execute_result",
          "data": {
            "text/plain": [
              "(84840, 50)"
            ]
          },
          "metadata": {},
          "execution_count": 19
        }
      ],
      "source": [
        "###  INPUT ###\n",
        "input_data = pd.read_csv('2023_smartFarm_AI_hackathon_dataset.csv')\n",
        "input_data.shape"
      ]
    },
    {
      "cell_type": "code",
      "execution_count": 20,
      "metadata": {
        "id": "spuLsHiPJc7m"
      },
      "outputs": [],
      "source": [
        "df = input_data.drop(columns=['frmDist'])\n",
        "df = df.sort_values(by='date')\n",
        "\n",
        "# 데이터를 훈련 세트와 테스트 세트로 분할\n",
        "'''\n",
        "데이터를 훈련 세트와 테스트 세트로 나누는 데 사용됩니다.\n",
        "이는 모델의 성능을 평가하기 위해 데이터를 분리하는 일반적인 절차입니다.\n",
        "'''\n",
        "# 데이터셋을 data, target으로 변수분리\n",
        "X = df[df.drop(columns=['outtrn_cumsum','HeatingEnergyUsage_cumsum']).columns]\n",
        "Y = df[['outtrn_cumsum','HeatingEnergyUsage_cumsum']]\n",
        "X_train, X_test, y_train, y_test = train_test_split(X, Y, test_size=0.2, random_state=42)\n"
      ]
    },
    {
      "cell_type": "code",
      "execution_count": 21,
      "metadata": {
        "colab": {
          "base_uri": "https://localhost:8080/"
        },
        "id": "f68fT8LIJc7o",
        "outputId": "87cef854-9680-44c1-a6c4-70ff7c751e8b"
      },
      "outputs": [
        {
          "output_type": "stream",
          "name": "stdout",
          "text": [
            "[LightGBM] [Warning] Found whitespace in feature_names, replace with underlines\n",
            "[LightGBM] [Warning] Auto-choosing col-wise multi-threading, the overhead of testing was 0.025502 seconds.\n",
            "You can set `force_col_wise=true` to remove the overhead.\n",
            "[LightGBM] [Info] Total Bins 9000\n",
            "[LightGBM] [Info] Number of data points in the train set: 67872, number of used features: 39\n",
            "[LightGBM] [Info] Start training from score 25537.923871\n",
            "[LightGBM] [Warning] Found whitespace in feature_names, replace with underlines\n",
            "[LightGBM] [Warning] Auto-choosing col-wise multi-threading, the overhead of testing was 0.025306 seconds.\n",
            "You can set `force_col_wise=true` to remove the overhead.\n",
            "[LightGBM] [Info] Total Bins 9000\n",
            "[LightGBM] [Info] Number of data points in the train set: 67872, number of used features: 39\n",
            "[LightGBM] [Info] Start training from score 144306.559980\n"
          ]
        }
      ],
      "source": [
        "class SimpleEnsemble(BaseEstimator, RegressorMixin):\n",
        "    def __init__(self, models):\n",
        "        self.models = [MultiOutputRegressor(model) for model in models]\n",
        "\n",
        "    def fit(self, X, y):\n",
        "        for model in self.models:\n",
        "            model.fit(X, y)\n",
        "        return self\n",
        "\n",
        "    def predict(self, X):\n",
        "        predictions = np.array([model.predict(X) for model in self.models])\n",
        "        return np.mean(predictions, axis=0)\n",
        "\n",
        "#linearRegressor = LinearRegression()\n",
        "#lassocv = LassoCV()\n",
        "#ridge = Ridge()\n",
        "#lassolarscv = LassoLarsCV()\n",
        "#elasticnetcv = ElasticNetCV()\n",
        "model_xgb = xgb.XGBRegressor()\n",
        "GBoost = GradientBoostingRegressor()\n",
        "LightGB = lgb.LGBMRegressor()\n",
        "RF = RandomForestRegressor()\n",
        "ETR = ExtraTreesRegressor()\n",
        "DT = DecisionTreeRegressor()\n",
        "HGBR = HistGradientBoostingRegressor()\n",
        "#AdaBoost = AdaBoostRegressor()\n",
        "\n",
        "# 테스트 세트에 대한 예측\n",
        "models = [GBoost, LightGB, RF, model_xgb, ETR, DT, HGBR]\n",
        "model = SimpleEnsemble(models)\n",
        "\n",
        "model.fit(X_train, y_train)\n",
        "\n",
        "y_pred = model.predict(X_test)"
      ]
    },
    {
      "cell_type": "code",
      "execution_count": 22,
      "metadata": {
        "colab": {
          "base_uri": "https://localhost:8080/"
        },
        "id": "Xn6Zur79Jc7p",
        "outputId": "97ba6e62-c307-41f4-cf04-4ba67182d625"
      },
      "outputs": [
        {
          "output_type": "stream",
          "name": "stdout",
          "text": [
            "RMSE: 26800.775657675393\n",
            "R2_score: 0.997519458957072\n"
          ]
        }
      ],
      "source": [
        "'''\n",
        "mean_squared_error와 r2_score는 회귀 모델의 예측 성능을 평가하는 메트릭입니다.\n",
        "RMSE는 예측값과 실제값 간의 제곱 오차의 평균 제곱근을 나타내며,\n",
        "R2 스코어는 모델이 데이터의 분산을 얼마나 설명하는지를 나타냅니다.\n",
        "'''\n",
        "rmse = np.sqrt(mean_squared_error(y_test, y_pred))\n",
        "r2score = r2_score(y_test, y_pred)\n",
        "\n",
        "\n",
        "### OUTPUT ###\n",
        "print(\"RMSE:\", rmse)\n",
        "print(\"R2_score:\", r2score)"
      ]
    }
  ],
  "metadata": {
    "kernelspec": {
      "display_name": "Python 3",
      "language": "python",
      "name": "python3"
    },
    "language_info": {
      "codemirror_mode": {
        "name": "ipython",
        "version": 3
      },
      "file_extension": ".py",
      "mimetype": "text/x-python",
      "name": "python",
      "nbconvert_exporter": "python",
      "pygments_lexer": "ipython3",
      "version": "3.9.18"
    },
    "orig_nbformat": 4,
    "colab": {
      "provenance": []
    }
  },
  "nbformat": 4,
  "nbformat_minor": 0
}