{
  "cells": [
    {
      "cell_type": "markdown",
      "source": [
        "# 데이터 로드"
      ],
      "metadata": {
        "id": "eySHHmo73o3l"
      }
    },
    {
      "cell_type": "code",
      "source": [
        "import pandas as pd\n",
        "\n",
        "###  INPUT ###\n",
        "input_data = pd.read_csv('2023_smartFarm_AI_hackathon_dataset.csv')\n",
        "input_data.shape"
      ],
      "metadata": {
        "id": "EDY2a794vZ4T",
        "colab": {
          "base_uri": "https://localhost:8080/"
        },
        "outputId": "ec5c8747-5e99-4e66-c3e0-afb8e7c2889a"
      },
      "execution_count": 1,
      "outputs": [
        {
          "output_type": "execute_result",
          "data": {
            "text/plain": [
              "(84840, 50)"
            ]
          },
          "metadata": {},
          "execution_count": 1
        }
      ]
    },
    {
      "cell_type": "markdown",
      "source": [
        "# 데이터 전처리"
      ],
      "metadata": {
        "id": "YgYMt5hE30FL"
      }
    },
    {
      "cell_type": "code",
      "execution_count": 2,
      "metadata": {
        "id": "_r2vS06mkfOw"
      },
      "outputs": [],
      "source": [
        "import numpy as np\n",
        "\n",
        "# ... (Data preprocessing code here)\n",
        "df = input_data.drop(columns=['frmDist'])\n",
        "df = df.sort_values(by='date') # 날짜 오름차순 정렬"
      ]
    },
    {
      "cell_type": "code",
      "source": [
        "df.columns"
      ],
      "metadata": {
        "colab": {
          "base_uri": "https://localhost:8080/"
        },
        "id": "4BYhOkHfy7b5",
        "outputId": "ec027bf3-5fc8-4017-a1a8-02837cfa62cb"
      },
      "execution_count": 3,
      "outputs": [
        {
          "output_type": "execute_result",
          "data": {
            "text/plain": [
              "Index(['date', 'inTp', 'inHd', 'otmsuplyqy', 'acSlrdQy', 'cunt', 'ph', 'outTp',\n",
              "       'outWs', 'daysuplyqy', 'inCo2', 'ec', 'frmYear', 'frmWeek',\n",
              "       'frtstGrupp', 'lefstalklt', 'frtstSetCo', 'pllnLt', 'flanGrupp',\n",
              "       'frtstCo', 'flanJnt', 'tcdmt', 'frmhsFclu', 'hvstGrupp', 'hvstJnt',\n",
              "       'grwtLt', 'fcluHg', 'lefLt', 'flwrCo', 'hvstCo', 'lefCunt', 'frtstJnt',\n",
              "       'lefBt', 'stemThck', 'frmAr', 'frmDov', 'outtrn', 'outtrn_cumsum',\n",
              "       'WaterUsage', 'WaterCost', 'FertilizerUsage', 'FertilizerCost',\n",
              "       'HeatingEnergyUsage', 'HeatingEnergyCost', 'CO2Usage', 'CO2Cost',\n",
              "       'MistUsageTime', 'Mist Cost', 'HeatingEnergyUsage_cumsum'],\n",
              "      dtype='object')"
            ]
          },
          "metadata": {},
          "execution_count": 3
        }
      ]
    },
    {
      "cell_type": "code",
      "source": [
        "# 모든 행의 값이 0인 컬럼 삭제\n",
        "zero_columns = df.columns[(df == 0).all()]\n",
        "zero_columns"
      ],
      "metadata": {
        "colab": {
          "base_uri": "https://localhost:8080/"
        },
        "id": "6MRMmcUO69AB",
        "outputId": "0c57c69d-bfe3-4c60-bead-ed65c361a479"
      },
      "execution_count": 4,
      "outputs": [
        {
          "output_type": "execute_result",
          "data": {
            "text/plain": [
              "Index(['daysuplyqy', 'lefstalklt', 'frtstSetCo', 'pllnLt', 'flanJnt',\n",
              "       'hvstJnt', 'flwrCo', 'frtstJnt'],\n",
              "      dtype='object')"
            ]
          },
          "metadata": {},
          "execution_count": 4
        }
      ]
    },
    {
      "cell_type": "code",
      "source": [
        "df.drop(zero_columns, axis=1, inplace=True)\n",
        "\n",
        "# NaN 포함한 행 삭제\n",
        "df = df.dropna()"
      ],
      "metadata": {
        "id": "UIoQLG5R6_cd"
      },
      "execution_count": 5,
      "outputs": []
    },
    {
      "cell_type": "code",
      "source": [
        "con = df[(df['date'] >= 20170101) & (df['date'] <= 20191231)]\n",
        "cost = df[(df['date'] >= 20220101) & (df['date'] <= 20221231)]"
      ],
      "metadata": {
        "id": "BITmj70sB9K2"
      },
      "execution_count": 6,
      "outputs": []
    },
    {
      "cell_type": "code",
      "source": [
        "zero_con = con.columns[(con == 0).all()]\n",
        "print(zero_con)\n",
        "con.drop(zero_con, axis=1, inplace=True)\n",
        "\n",
        "zero_cost = cost.columns[(cost == 0).all()]\n",
        "print(zero_cost)\n",
        "cost.drop(zero_cost, axis=1, inplace=True)"
      ],
      "metadata": {
        "colab": {
          "base_uri": "https://localhost:8080/"
        },
        "id": "sQ0VtMyCCRDj",
        "outputId": "eb922ad6-03f4-4853-e1f1-08f25454bd9d"
      },
      "execution_count": 7,
      "outputs": [
        {
          "output_type": "stream",
          "name": "stdout",
          "text": [
            "Index(['tcdmt', 'WaterUsage', 'WaterCost', 'FertilizerUsage', 'FertilizerCost',\n",
            "       'HeatingEnergyUsage', 'HeatingEnergyCost', 'CO2Usage', 'CO2Cost',\n",
            "       'MistUsageTime', 'Mist Cost', 'HeatingEnergyUsage_cumsum'],\n",
            "      dtype='object')\n",
            "Index(['inTp', 'inHd', 'otmsuplyqy', 'acSlrdQy', 'cunt', 'outTp', 'outWs',\n",
            "       'inCo2', 'frmYear', 'frmWeek', 'frtstGrupp', 'flanGrupp', 'frmhsFclu',\n",
            "       'hvstGrupp', 'hvstCo', 'stemThck'],\n",
            "      dtype='object')\n"
          ]
        },
        {
          "output_type": "stream",
          "name": "stderr",
          "text": [
            "<ipython-input-7-0433c8fa2dc7>:3: SettingWithCopyWarning: \n",
            "A value is trying to be set on a copy of a slice from a DataFrame\n",
            "\n",
            "See the caveats in the documentation: https://pandas.pydata.org/pandas-docs/stable/user_guide/indexing.html#returning-a-view-versus-a-copy\n",
            "  con.drop(zero_con, axis=1, inplace=True)\n",
            "<ipython-input-7-0433c8fa2dc7>:7: SettingWithCopyWarning: \n",
            "A value is trying to be set on a copy of a slice from a DataFrame\n",
            "\n",
            "See the caveats in the documentation: https://pandas.pydata.org/pandas-docs/stable/user_guide/indexing.html#returning-a-view-versus-a-copy\n",
            "  cost.drop(zero_cost, axis=1, inplace=True)\n"
          ]
        }
      ]
    },
    {
      "cell_type": "code",
      "source": [
        "con.columns"
      ],
      "metadata": {
        "colab": {
          "base_uri": "https://localhost:8080/"
        },
        "id": "Zx9YWHHd7dus",
        "outputId": "7ae9388c-a6e7-4b5e-b79d-fb3058cf969e"
      },
      "execution_count": 8,
      "outputs": [
        {
          "output_type": "execute_result",
          "data": {
            "text/plain": [
              "Index(['date', 'inTp', 'inHd', 'otmsuplyqy', 'acSlrdQy', 'cunt', 'ph', 'outTp',\n",
              "       'outWs', 'inCo2', 'ec', 'frmYear', 'frmWeek', 'frtstGrupp', 'flanGrupp',\n",
              "       'frtstCo', 'frmhsFclu', 'hvstGrupp', 'grwtLt', 'fcluHg', 'lefLt',\n",
              "       'hvstCo', 'lefCunt', 'lefBt', 'stemThck', 'frmAr', 'frmDov', 'outtrn',\n",
              "       'outtrn_cumsum'],\n",
              "      dtype='object')"
            ]
          },
          "metadata": {},
          "execution_count": 8
        }
      ]
    },
    {
      "cell_type": "code",
      "source": [
        "cost.columns"
      ],
      "metadata": {
        "colab": {
          "base_uri": "https://localhost:8080/"
        },
        "id": "GFkOS3ZU7fkp",
        "outputId": "6b1a9f8b-b36d-4791-dd53-6e34ba7a2491"
      },
      "execution_count": 9,
      "outputs": [
        {
          "output_type": "execute_result",
          "data": {
            "text/plain": [
              "Index(['date', 'ph', 'ec', 'frtstCo', 'tcdmt', 'grwtLt', 'fcluHg', 'lefLt',\n",
              "       'lefCunt', 'lefBt', 'frmAr', 'frmDov', 'outtrn', 'outtrn_cumsum',\n",
              "       'WaterUsage', 'WaterCost', 'FertilizerUsage', 'FertilizerCost',\n",
              "       'HeatingEnergyUsage', 'HeatingEnergyCost', 'CO2Usage', 'CO2Cost',\n",
              "       'MistUsageTime', 'Mist Cost', 'HeatingEnergyUsage_cumsum'],\n",
              "      dtype='object')"
            ]
          },
          "metadata": {},
          "execution_count": 9
        }
      ]
    },
    {
      "cell_type": "code",
      "source": [
        "import pandas as pd\n",
        "\n",
        "# 날짜 변환\n",
        "con['date'] = pd.to_datetime(con['date'], format='%Y%m%d')\n",
        "\n",
        "# 파생 변수 생성\n",
        "con['temp_difference'] = con['inTp'] - con['outTp']\n",
        "con['sunlight_per_watering'] = con.apply(lambda row: row['acSlrdQy'] / row['cunt'] if row['cunt'] != 0 else 0, axis=1)\n",
        "con['7day_avg_inTp'] = con['inTp'].rolling(window=7).mean()\n",
        "con['temp_humidity_interaction'] = con['inTp'] * con['inHd']\n",
        "con['month'] = con['date'].dt.month\n",
        "con['day'] = con['date'].dt.day\n",
        "con['season'] = con['month'].apply(lambda x: 'spring' if 3 <= x < 6 else 'summer' if 6 <= x < 9 else 'fall' if 9 <= x < 12 else 'winter')\n",
        "con['7day_avg_inHd'] = con['inHd'].rolling(window=7).mean()\n",
        "\n",
        "# NaN 값 처리\n",
        "con.dropna(subset=['7day_avg_inTp', '7day_avg_inHd'], inplace=True)\n",
        "\n",
        "# 원-핫 인코딩\n",
        "con = pd.concat([con, pd.get_dummies(con['season'], prefix='season')], axis=1)\n",
        "con.drop('season', axis=1, inplace=True)\n",
        "\n",
        "# 'inTp'와 'outTp'의 차이를 이용한 일간 온도 변동\n",
        "con['daily_temp_change'] = con['inTp'].diff()\n",
        "\n",
        "# 'inHd'의 일간 변동\n",
        "con['daily_humidity_change'] = con['inHd'].diff()\n",
        "\n",
        "# 일출 전 후로 'acSlrdQy'가 어떻게 변하는지 체크하기 위한 지연 변수 (하루 지연)\n",
        "con['acSlrdQy_lag1'] = con['acSlrdQy'].shift(1)\n",
        "\n",
        "# 'otmsuplyqy'와 'acSlrdQy'의 비율\n",
        "con['sunlight_to_otmsuplyqy_ratio'] = con.apply(lambda row: row['acSlrdQy'] / row['otmsuplyqy'] if row['otmsuplyqy'] != 0 else 0, axis=1)\n",
        "\n",
        "# NaN 값 처리 (새로 생성한 지연 변수에 대해 NaN 값을 처리)\n",
        "con.dropna(subset=['daily_temp_change', 'daily_humidity_change', 'acSlrdQy_lag1'], inplace=True)"
      ],
      "metadata": {
        "colab": {
          "base_uri": "https://localhost:8080/"
        },
        "id": "FIu_8lHEDkCg",
        "outputId": "8119b6eb-ca04-42d9-8267-05eacb6bff81"
      },
      "execution_count": 10,
      "outputs": [
        {
          "output_type": "stream",
          "name": "stderr",
          "text": [
            "<ipython-input-10-72fb28369dc9>:4: SettingWithCopyWarning: \n",
            "A value is trying to be set on a copy of a slice from a DataFrame.\n",
            "Try using .loc[row_indexer,col_indexer] = value instead\n",
            "\n",
            "See the caveats in the documentation: https://pandas.pydata.org/pandas-docs/stable/user_guide/indexing.html#returning-a-view-versus-a-copy\n",
            "  con['date'] = pd.to_datetime(con['date'], format='%Y%m%d')\n",
            "<ipython-input-10-72fb28369dc9>:7: SettingWithCopyWarning: \n",
            "A value is trying to be set on a copy of a slice from a DataFrame.\n",
            "Try using .loc[row_indexer,col_indexer] = value instead\n",
            "\n",
            "See the caveats in the documentation: https://pandas.pydata.org/pandas-docs/stable/user_guide/indexing.html#returning-a-view-versus-a-copy\n",
            "  con['temp_difference'] = con['inTp'] - con['outTp']\n",
            "<ipython-input-10-72fb28369dc9>:8: SettingWithCopyWarning: \n",
            "A value is trying to be set on a copy of a slice from a DataFrame.\n",
            "Try using .loc[row_indexer,col_indexer] = value instead\n",
            "\n",
            "See the caveats in the documentation: https://pandas.pydata.org/pandas-docs/stable/user_guide/indexing.html#returning-a-view-versus-a-copy\n",
            "  con['sunlight_per_watering'] = con.apply(lambda row: row['acSlrdQy'] / row['cunt'] if row['cunt'] != 0 else 0, axis=1)\n",
            "<ipython-input-10-72fb28369dc9>:9: SettingWithCopyWarning: \n",
            "A value is trying to be set on a copy of a slice from a DataFrame.\n",
            "Try using .loc[row_indexer,col_indexer] = value instead\n",
            "\n",
            "See the caveats in the documentation: https://pandas.pydata.org/pandas-docs/stable/user_guide/indexing.html#returning-a-view-versus-a-copy\n",
            "  con['7day_avg_inTp'] = con['inTp'].rolling(window=7).mean()\n",
            "<ipython-input-10-72fb28369dc9>:10: SettingWithCopyWarning: \n",
            "A value is trying to be set on a copy of a slice from a DataFrame.\n",
            "Try using .loc[row_indexer,col_indexer] = value instead\n",
            "\n",
            "See the caveats in the documentation: https://pandas.pydata.org/pandas-docs/stable/user_guide/indexing.html#returning-a-view-versus-a-copy\n",
            "  con['temp_humidity_interaction'] = con['inTp'] * con['inHd']\n",
            "<ipython-input-10-72fb28369dc9>:11: SettingWithCopyWarning: \n",
            "A value is trying to be set on a copy of a slice from a DataFrame.\n",
            "Try using .loc[row_indexer,col_indexer] = value instead\n",
            "\n",
            "See the caveats in the documentation: https://pandas.pydata.org/pandas-docs/stable/user_guide/indexing.html#returning-a-view-versus-a-copy\n",
            "  con['month'] = con['date'].dt.month\n",
            "<ipython-input-10-72fb28369dc9>:12: SettingWithCopyWarning: \n",
            "A value is trying to be set on a copy of a slice from a DataFrame.\n",
            "Try using .loc[row_indexer,col_indexer] = value instead\n",
            "\n",
            "See the caveats in the documentation: https://pandas.pydata.org/pandas-docs/stable/user_guide/indexing.html#returning-a-view-versus-a-copy\n",
            "  con['day'] = con['date'].dt.day\n",
            "<ipython-input-10-72fb28369dc9>:13: SettingWithCopyWarning: \n",
            "A value is trying to be set on a copy of a slice from a DataFrame.\n",
            "Try using .loc[row_indexer,col_indexer] = value instead\n",
            "\n",
            "See the caveats in the documentation: https://pandas.pydata.org/pandas-docs/stable/user_guide/indexing.html#returning-a-view-versus-a-copy\n",
            "  con['season'] = con['month'].apply(lambda x: 'spring' if 3 <= x < 6 else 'summer' if 6 <= x < 9 else 'fall' if 9 <= x < 12 else 'winter')\n",
            "<ipython-input-10-72fb28369dc9>:14: SettingWithCopyWarning: \n",
            "A value is trying to be set on a copy of a slice from a DataFrame.\n",
            "Try using .loc[row_indexer,col_indexer] = value instead\n",
            "\n",
            "See the caveats in the documentation: https://pandas.pydata.org/pandas-docs/stable/user_guide/indexing.html#returning-a-view-versus-a-copy\n",
            "  con['7day_avg_inHd'] = con['inHd'].rolling(window=7).mean()\n",
            "<ipython-input-10-72fb28369dc9>:17: SettingWithCopyWarning: \n",
            "A value is trying to be set on a copy of a slice from a DataFrame\n",
            "\n",
            "See the caveats in the documentation: https://pandas.pydata.org/pandas-docs/stable/user_guide/indexing.html#returning-a-view-versus-a-copy\n",
            "  con.dropna(subset=['7day_avg_inTp', '7day_avg_inHd'], inplace=True)\n"
          ]
        }
      ]
    },
    {
      "cell_type": "code",
      "source": [
        "con.columns"
      ],
      "metadata": {
        "colab": {
          "base_uri": "https://localhost:8080/"
        },
        "id": "Pa-mfwpwOmAP",
        "outputId": "d3eb5eaf-de98-4f40-f334-78b3f02e431a"
      },
      "execution_count": 11,
      "outputs": [
        {
          "output_type": "execute_result",
          "data": {
            "text/plain": [
              "Index(['date', 'inTp', 'inHd', 'otmsuplyqy', 'acSlrdQy', 'cunt', 'ph', 'outTp',\n",
              "       'outWs', 'inCo2', 'ec', 'frmYear', 'frmWeek', 'frtstGrupp', 'flanGrupp',\n",
              "       'frtstCo', 'frmhsFclu', 'hvstGrupp', 'grwtLt', 'fcluHg', 'lefLt',\n",
              "       'hvstCo', 'lefCunt', 'lefBt', 'stemThck', 'frmAr', 'frmDov', 'outtrn',\n",
              "       'outtrn_cumsum', 'temp_difference', 'sunlight_per_watering',\n",
              "       '7day_avg_inTp', 'temp_humidity_interaction', 'month', 'day',\n",
              "       '7day_avg_inHd', 'season_fall', 'season_spring', 'season_summer',\n",
              "       'season_winter', 'daily_temp_change', 'daily_humidity_change',\n",
              "       'acSlrdQy_lag1', 'sunlight_to_otmsuplyqy_ratio'],\n",
              "      dtype='object')"
            ]
          },
          "metadata": {},
          "execution_count": 11
        }
      ]
    },
    {
      "cell_type": "code",
      "source": [
        "nan_rows = df[df.isnull().any(axis=1)]\n",
        "print(nan_rows)"
      ],
      "metadata": {
        "colab": {
          "base_uri": "https://localhost:8080/"
        },
        "id": "lbCS7t1jF7P0",
        "outputId": "ce26191c-1df8-45cb-ca26-8b622ceefc84"
      },
      "execution_count": 12,
      "outputs": [
        {
          "output_type": "stream",
          "name": "stdout",
          "text": [
            "Empty DataFrame\n",
            "Columns: [date, inTp, inHd, otmsuplyqy, acSlrdQy, cunt, ph, outTp, outWs, inCo2, ec, frmYear, frmWeek, frtstGrupp, flanGrupp, frtstCo, tcdmt, frmhsFclu, hvstGrupp, grwtLt, fcluHg, lefLt, hvstCo, lefCunt, lefBt, stemThck, frmAr, frmDov, outtrn, outtrn_cumsum, WaterUsage, WaterCost, FertilizerUsage, FertilizerCost, HeatingEnergyUsage, HeatingEnergyCost, CO2Usage, CO2Cost, MistUsageTime, Mist Cost, HeatingEnergyUsage_cumsum]\n",
            "Index: []\n",
            "\n",
            "[0 rows x 41 columns]\n"
          ]
        }
      ]
    },
    {
      "cell_type": "code",
      "source": [
        "def calculate_ratio(df, numerator, denominator, new_column_name):\n",
        "    df[new_column_name] = np.where(df[denominator] != 0, df[numerator] / df[denominator], 0)\n",
        "    return df\n",
        "\n",
        "def calculate_rolling_average(df, column, window_size=7):\n",
        "    return df[column].rolling(window=window_size).mean().fillna(method='ffill')\n",
        "\n",
        "def calculate_rolling_std(df, column, window_size=7):\n",
        "    return df[column].rolling(window=window_size).std()\n",
        "\n",
        "def calculate_recent_trend(df, column, window_size=7):\n",
        "    return df[column] - df[column].rolling(window=window_size).mean()\n",
        "\n",
        "cost = calculate_ratio(cost, 'CO2Cost', 'CO2Usage', 'CO2_Usage_Cost_Ratio')\n",
        "cost = calculate_ratio(cost, 'Mist Cost', 'MistUsageTime', 'Mist_Time_Cost_Ratio')\n",
        "\n",
        "# 통계적 집계\n",
        "cost['7day_avg_WaterUsage'] = calculate_rolling_average(cost, 'WaterUsage')\n",
        "cost['7day_avg_FertilizerUsage'] = calculate_rolling_average(cost, 'FertilizerUsage')\n",
        "cost['7day_avg_CO2Usage'] = calculate_rolling_average(cost, 'CO2Usage')\n",
        "\n",
        "# 다항/상호작용 파생 변수 생성\n",
        "cost['ph_ec_interaction'] = cost['ph'] * cost['ec']\n",
        "\n",
        "# 날짜 처리\n",
        "cost['date'] = pd.to_datetime(cost['date'], format='%Y%m%d')\n",
        "\n",
        "# 추가 파생 변수 생성\n",
        "cost['7day_WaterUsage_Volatility'] = calculate_rolling_std(cost, 'WaterUsage')\n",
        "cost['7day_FertilizerUsage_Volatility'] = calculate_rolling_std(cost, 'FertilizerUsage')\n",
        "cost['WaterUsage_Recent_Trend'] = calculate_recent_trend(cost, 'WaterUsage')\n",
        "cost['FertilizerUsage_Recent_Trend'] = calculate_recent_trend(cost, 'FertilizerUsage')\n",
        "\n",
        "# 일부 NaN 값 처리\n",
        "required_columns = ['7day_avg_WaterUsage', '7day_avg_FertilizerUsage', '7day_avg_CO2Usage', '7day_WaterUsage_Volatility',\n",
        "                    '7day_FertilizerUsage_Volatility', 'WaterUsage_Recent_Trend', 'FertilizerUsage_Recent_Trend']\n",
        "cost = cost.dropna(subset=required_columns)\n",
        "\n",
        "# 예: 물 사용량이 처음 발생한 날부터의 경과일\n",
        "first_water_usage_date = cost[cost['WaterUsage'] > 0]['date'].iloc[0]\n",
        "cost['Days_Since_First_WaterUsage'] = (cost['date'] - first_water_usage_date).dt.days\n",
        "\n",
        "# 물 사용량 대비 CO2 사용량의 비율\n",
        "cost = calculate_ratio(cost, 'WaterUsage', 'CO2Usage', 'Water_to_CO2_Usage_Ratio')\n",
        "\n",
        "# 비료 사용량 대비 물 사용량의 비율\n",
        "cost = calculate_ratio(cost, 'FertilizerUsage', 'WaterUsage', 'Fertilizer_to_Water_Usage_Ratio')\n",
        "\n",
        "# 요일 정보 추가 (0: 월요일, 6: 일요일)\n",
        "cost['day_of_week'] = cost['date'].dt.dayofweek\n",
        "\n",
        "# 하루 평균 Mist 사용 시간\n",
        "cost['avg_mist_usage_per_day'] = cost['MistUsageTime'] / (cost['date'].diff().dt.days.fillna(0) + 1)\n",
        "\n",
        "# 결과 확인\n",
        "print(cost.head())"
      ],
      "metadata": {
        "colab": {
          "base_uri": "https://localhost:8080/"
        },
        "id": "x6npQikvR1Gb",
        "outputId": "5aa630af-8245-46d9-c258-89832a1d5a4c"
      },
      "execution_count": 13,
      "outputs": [
        {
          "output_type": "stream",
          "name": "stdout",
          "text": [
            "            date   ph   ec  frtstCo     tcdmt      grwtLt  fcluHg  lefLt  \\\n",
            "18351 2022-09-26  0.0  0.0      0.0  6.973377   23.358008     0.0    0.0   \n",
            "18423 2022-09-26  0.0  0.0      0.0  7.249897   19.466223     0.0    0.0   \n",
            "55504 2022-09-26  0.0  0.0      0.0  6.898958  192.370414     0.0    0.0   \n",
            "3563  2022-09-26  0.0  0.0      0.0  8.454030   17.550623     0.0    0.0   \n",
            "3994  2022-09-26  0.0  0.0      0.0  8.571427  211.112435     0.0    0.0   \n",
            "\n",
            "       lefCunt  lefBt  ...  ph_ec_interaction  7day_WaterUsage_Volatility  \\\n",
            "18351      0.0    0.0  ...                0.0                         0.0   \n",
            "18423      0.0    0.0  ...                0.0                         0.0   \n",
            "55504      0.0    0.0  ...                0.0                         0.0   \n",
            "3563       0.0    0.0  ...                0.0                         0.0   \n",
            "3994       0.0    0.0  ...                0.0                         0.0   \n",
            "\n",
            "       7day_FertilizerUsage_Volatility  WaterUsage_Recent_Trend  \\\n",
            "18351                              0.0                      0.0   \n",
            "18423                              0.0                      0.0   \n",
            "55504                              0.0                      0.0   \n",
            "3563                               0.0                      0.0   \n",
            "3994                               0.0                      0.0   \n",
            "\n",
            "       FertilizerUsage_Recent_Trend  Days_Since_First_WaterUsage  \\\n",
            "18351                           0.0                           -5   \n",
            "18423                           0.0                           -5   \n",
            "55504                           0.0                           -5   \n",
            "3563                            0.0                           -5   \n",
            "3994                            0.0                           -5   \n",
            "\n",
            "       Water_to_CO2_Usage_Ratio  Fertilizer_to_Water_Usage_Ratio  day_of_week  \\\n",
            "18351                       0.0                              0.0            0   \n",
            "18423                       0.0                              0.0            0   \n",
            "55504                       0.0                              0.0            0   \n",
            "3563                        0.0                              0.0            0   \n",
            "3994                        0.0                              0.0            0   \n",
            "\n",
            "       avg_mist_usage_per_day  \n",
            "18351                     0.0  \n",
            "18423                     0.0  \n",
            "55504                     0.0  \n",
            "3563                      0.0  \n",
            "3994                      0.0  \n",
            "\n",
            "[5 rows x 40 columns]\n"
          ]
        },
        {
          "output_type": "stream",
          "name": "stderr",
          "text": [
            "<ipython-input-13-31d39b00406e>:2: SettingWithCopyWarning: \n",
            "A value is trying to be set on a copy of a slice from a DataFrame.\n",
            "Try using .loc[row_indexer,col_indexer] = value instead\n",
            "\n",
            "See the caveats in the documentation: https://pandas.pydata.org/pandas-docs/stable/user_guide/indexing.html#returning-a-view-versus-a-copy\n",
            "  df[new_column_name] = np.where(df[denominator] != 0, df[numerator] / df[denominator], 0)\n",
            "<ipython-input-13-31d39b00406e>:2: SettingWithCopyWarning: \n",
            "A value is trying to be set on a copy of a slice from a DataFrame.\n",
            "Try using .loc[row_indexer,col_indexer] = value instead\n",
            "\n",
            "See the caveats in the documentation: https://pandas.pydata.org/pandas-docs/stable/user_guide/indexing.html#returning-a-view-versus-a-copy\n",
            "  df[new_column_name] = np.where(df[denominator] != 0, df[numerator] / df[denominator], 0)\n",
            "<ipython-input-13-31d39b00406e>:18: SettingWithCopyWarning: \n",
            "A value is trying to be set on a copy of a slice from a DataFrame.\n",
            "Try using .loc[row_indexer,col_indexer] = value instead\n",
            "\n",
            "See the caveats in the documentation: https://pandas.pydata.org/pandas-docs/stable/user_guide/indexing.html#returning-a-view-versus-a-copy\n",
            "  cost['7day_avg_WaterUsage'] = calculate_rolling_average(cost, 'WaterUsage')\n",
            "<ipython-input-13-31d39b00406e>:19: SettingWithCopyWarning: \n",
            "A value is trying to be set on a copy of a slice from a DataFrame.\n",
            "Try using .loc[row_indexer,col_indexer] = value instead\n",
            "\n",
            "See the caveats in the documentation: https://pandas.pydata.org/pandas-docs/stable/user_guide/indexing.html#returning-a-view-versus-a-copy\n",
            "  cost['7day_avg_FertilizerUsage'] = calculate_rolling_average(cost, 'FertilizerUsage')\n",
            "<ipython-input-13-31d39b00406e>:20: SettingWithCopyWarning: \n",
            "A value is trying to be set on a copy of a slice from a DataFrame.\n",
            "Try using .loc[row_indexer,col_indexer] = value instead\n",
            "\n",
            "See the caveats in the documentation: https://pandas.pydata.org/pandas-docs/stable/user_guide/indexing.html#returning-a-view-versus-a-copy\n",
            "  cost['7day_avg_CO2Usage'] = calculate_rolling_average(cost, 'CO2Usage')\n",
            "<ipython-input-13-31d39b00406e>:23: SettingWithCopyWarning: \n",
            "A value is trying to be set on a copy of a slice from a DataFrame.\n",
            "Try using .loc[row_indexer,col_indexer] = value instead\n",
            "\n",
            "See the caveats in the documentation: https://pandas.pydata.org/pandas-docs/stable/user_guide/indexing.html#returning-a-view-versus-a-copy\n",
            "  cost['ph_ec_interaction'] = cost['ph'] * cost['ec']\n",
            "<ipython-input-13-31d39b00406e>:26: SettingWithCopyWarning: \n",
            "A value is trying to be set on a copy of a slice from a DataFrame.\n",
            "Try using .loc[row_indexer,col_indexer] = value instead\n",
            "\n",
            "See the caveats in the documentation: https://pandas.pydata.org/pandas-docs/stable/user_guide/indexing.html#returning-a-view-versus-a-copy\n",
            "  cost['date'] = pd.to_datetime(cost['date'], format='%Y%m%d')\n",
            "<ipython-input-13-31d39b00406e>:29: SettingWithCopyWarning: \n",
            "A value is trying to be set on a copy of a slice from a DataFrame.\n",
            "Try using .loc[row_indexer,col_indexer] = value instead\n",
            "\n",
            "See the caveats in the documentation: https://pandas.pydata.org/pandas-docs/stable/user_guide/indexing.html#returning-a-view-versus-a-copy\n",
            "  cost['7day_WaterUsage_Volatility'] = calculate_rolling_std(cost, 'WaterUsage')\n",
            "<ipython-input-13-31d39b00406e>:30: SettingWithCopyWarning: \n",
            "A value is trying to be set on a copy of a slice from a DataFrame.\n",
            "Try using .loc[row_indexer,col_indexer] = value instead\n",
            "\n",
            "See the caveats in the documentation: https://pandas.pydata.org/pandas-docs/stable/user_guide/indexing.html#returning-a-view-versus-a-copy\n",
            "  cost['7day_FertilizerUsage_Volatility'] = calculate_rolling_std(cost, 'FertilizerUsage')\n",
            "<ipython-input-13-31d39b00406e>:31: SettingWithCopyWarning: \n",
            "A value is trying to be set on a copy of a slice from a DataFrame.\n",
            "Try using .loc[row_indexer,col_indexer] = value instead\n",
            "\n",
            "See the caveats in the documentation: https://pandas.pydata.org/pandas-docs/stable/user_guide/indexing.html#returning-a-view-versus-a-copy\n",
            "  cost['WaterUsage_Recent_Trend'] = calculate_recent_trend(cost, 'WaterUsage')\n",
            "<ipython-input-13-31d39b00406e>:32: SettingWithCopyWarning: \n",
            "A value is trying to be set on a copy of a slice from a DataFrame.\n",
            "Try using .loc[row_indexer,col_indexer] = value instead\n",
            "\n",
            "See the caveats in the documentation: https://pandas.pydata.org/pandas-docs/stable/user_guide/indexing.html#returning-a-view-versus-a-copy\n",
            "  cost['FertilizerUsage_Recent_Trend'] = calculate_recent_trend(cost, 'FertilizerUsage')\n",
            "<ipython-input-13-31d39b00406e>:41: SettingWithCopyWarning: \n",
            "A value is trying to be set on a copy of a slice from a DataFrame.\n",
            "Try using .loc[row_indexer,col_indexer] = value instead\n",
            "\n",
            "See the caveats in the documentation: https://pandas.pydata.org/pandas-docs/stable/user_guide/indexing.html#returning-a-view-versus-a-copy\n",
            "  cost['Days_Since_First_WaterUsage'] = (cost['date'] - first_water_usage_date).dt.days\n",
            "<ipython-input-13-31d39b00406e>:2: SettingWithCopyWarning: \n",
            "A value is trying to be set on a copy of a slice from a DataFrame.\n",
            "Try using .loc[row_indexer,col_indexer] = value instead\n",
            "\n",
            "See the caveats in the documentation: https://pandas.pydata.org/pandas-docs/stable/user_guide/indexing.html#returning-a-view-versus-a-copy\n",
            "  df[new_column_name] = np.where(df[denominator] != 0, df[numerator] / df[denominator], 0)\n",
            "<ipython-input-13-31d39b00406e>:2: SettingWithCopyWarning: \n",
            "A value is trying to be set on a copy of a slice from a DataFrame.\n",
            "Try using .loc[row_indexer,col_indexer] = value instead\n",
            "\n",
            "See the caveats in the documentation: https://pandas.pydata.org/pandas-docs/stable/user_guide/indexing.html#returning-a-view-versus-a-copy\n",
            "  df[new_column_name] = np.where(df[denominator] != 0, df[numerator] / df[denominator], 0)\n",
            "<ipython-input-13-31d39b00406e>:50: SettingWithCopyWarning: \n",
            "A value is trying to be set on a copy of a slice from a DataFrame.\n",
            "Try using .loc[row_indexer,col_indexer] = value instead\n",
            "\n",
            "See the caveats in the documentation: https://pandas.pydata.org/pandas-docs/stable/user_guide/indexing.html#returning-a-view-versus-a-copy\n",
            "  cost['day_of_week'] = cost['date'].dt.dayofweek\n",
            "<ipython-input-13-31d39b00406e>:53: SettingWithCopyWarning: \n",
            "A value is trying to be set on a copy of a slice from a DataFrame.\n",
            "Try using .loc[row_indexer,col_indexer] = value instead\n",
            "\n",
            "See the caveats in the documentation: https://pandas.pydata.org/pandas-docs/stable/user_guide/indexing.html#returning-a-view-versus-a-copy\n",
            "  cost['avg_mist_usage_per_day'] = cost['MistUsageTime'] / (cost['date'].diff().dt.days.fillna(0) + 1)\n"
          ]
        }
      ]
    },
    {
      "cell_type": "code",
      "source": [
        "cost.columns"
      ],
      "metadata": {
        "colab": {
          "base_uri": "https://localhost:8080/"
        },
        "id": "U2UN8QgZOoUE",
        "outputId": "bb8f3533-7f4c-40a5-e5b3-3d32a2ce4bb8"
      },
      "execution_count": 14,
      "outputs": [
        {
          "output_type": "execute_result",
          "data": {
            "text/plain": [
              "Index(['date', 'ph', 'ec', 'frtstCo', 'tcdmt', 'grwtLt', 'fcluHg', 'lefLt',\n",
              "       'lefCunt', 'lefBt', 'frmAr', 'frmDov', 'outtrn', 'outtrn_cumsum',\n",
              "       'WaterUsage', 'WaterCost', 'FertilizerUsage', 'FertilizerCost',\n",
              "       'HeatingEnergyUsage', 'HeatingEnergyCost', 'CO2Usage', 'CO2Cost',\n",
              "       'MistUsageTime', 'Mist Cost', 'HeatingEnergyUsage_cumsum',\n",
              "       'CO2_Usage_Cost_Ratio', 'Mist_Time_Cost_Ratio', '7day_avg_WaterUsage',\n",
              "       '7day_avg_FertilizerUsage', '7day_avg_CO2Usage', 'ph_ec_interaction',\n",
              "       '7day_WaterUsage_Volatility', '7day_FertilizerUsage_Volatility',\n",
              "       'WaterUsage_Recent_Trend', 'FertilizerUsage_Recent_Trend',\n",
              "       'Days_Since_First_WaterUsage', 'Water_to_CO2_Usage_Ratio',\n",
              "       'Fertilizer_to_Water_Usage_Ratio', 'day_of_week',\n",
              "       'avg_mist_usage_per_day'],\n",
              "      dtype='object')"
            ]
          },
          "metadata": {},
          "execution_count": 14
        }
      ]
    },
    {
      "cell_type": "markdown",
      "source": [
        "# 훈련/테스트 데이터셋 생성"
      ],
      "metadata": {
        "id": "Y8C5S6km31eQ"
      }
    },
    {
      "cell_type": "code",
      "source": [
        "# 모든 컬럼 리스트 생성\n",
        "all_columns = set(con.columns).union(set(cost.columns))\n",
        "\n",
        "# 각 데이터 프레임에 없는 컬럼을 0으로 채우기\n",
        "for column in all_columns:\n",
        "    if column not in con.columns:\n",
        "        con[column] = 0\n",
        "    if column not in cost.columns:\n",
        "        cost[column] = 0\n",
        "\n",
        "# 두 데이터 프레임 합치기\n",
        "combined_df = pd.concat([con, cost], axis=0).sort_values(by='date').reset_index(drop=True)\n",
        "\n",
        "# 'date' 컬럼을 사용하여 'year', 'month', 'day' 컬럼 생성\n",
        "combined_df['year'] = combined_df['date'].dt.year\n",
        "combined_df['month'] = combined_df['date'].dt.month\n",
        "combined_df['day'] = combined_df['date'].dt.day\n",
        "\n",
        "# 'date' 컬럼 타입 변경 (필요한 경우에만)\n",
        "combined_df['date'] = combined_df['date'].astype(int)\n",
        "\n",
        "print(combined_df[['year', 'month', 'day']].head())"
      ],
      "metadata": {
        "colab": {
          "base_uri": "https://localhost:8080/"
        },
        "id": "bqbg1NSSai1H",
        "outputId": "bccb5138-5997-4948-8a52-181c74b4bb46"
      },
      "execution_count": 15,
      "outputs": [
        {
          "output_type": "stream",
          "name": "stderr",
          "text": [
            "<ipython-input-15-783bac8e3e25>:9: SettingWithCopyWarning: \n",
            "A value is trying to be set on a copy of a slice from a DataFrame.\n",
            "Try using .loc[row_indexer,col_indexer] = value instead\n",
            "\n",
            "See the caveats in the documentation: https://pandas.pydata.org/pandas-docs/stable/user_guide/indexing.html#returning-a-view-versus-a-copy\n",
            "  cost[column] = 0\n",
            "<ipython-input-15-783bac8e3e25>:9: SettingWithCopyWarning: \n",
            "A value is trying to be set on a copy of a slice from a DataFrame.\n",
            "Try using .loc[row_indexer,col_indexer] = value instead\n",
            "\n",
            "See the caveats in the documentation: https://pandas.pydata.org/pandas-docs/stable/user_guide/indexing.html#returning-a-view-versus-a-copy\n",
            "  cost[column] = 0\n",
            "<ipython-input-15-783bac8e3e25>:9: SettingWithCopyWarning: \n",
            "A value is trying to be set on a copy of a slice from a DataFrame.\n",
            "Try using .loc[row_indexer,col_indexer] = value instead\n",
            "\n",
            "See the caveats in the documentation: https://pandas.pydata.org/pandas-docs/stable/user_guide/indexing.html#returning-a-view-versus-a-copy\n",
            "  cost[column] = 0\n",
            "<ipython-input-15-783bac8e3e25>:9: SettingWithCopyWarning: \n",
            "A value is trying to be set on a copy of a slice from a DataFrame.\n",
            "Try using .loc[row_indexer,col_indexer] = value instead\n",
            "\n",
            "See the caveats in the documentation: https://pandas.pydata.org/pandas-docs/stable/user_guide/indexing.html#returning-a-view-versus-a-copy\n",
            "  cost[column] = 0\n",
            "<ipython-input-15-783bac8e3e25>:9: SettingWithCopyWarning: \n",
            "A value is trying to be set on a copy of a slice from a DataFrame.\n",
            "Try using .loc[row_indexer,col_indexer] = value instead\n",
            "\n",
            "See the caveats in the documentation: https://pandas.pydata.org/pandas-docs/stable/user_guide/indexing.html#returning-a-view-versus-a-copy\n",
            "  cost[column] = 0\n",
            "<ipython-input-15-783bac8e3e25>:9: SettingWithCopyWarning: \n",
            "A value is trying to be set on a copy of a slice from a DataFrame.\n",
            "Try using .loc[row_indexer,col_indexer] = value instead\n",
            "\n",
            "See the caveats in the documentation: https://pandas.pydata.org/pandas-docs/stable/user_guide/indexing.html#returning-a-view-versus-a-copy\n",
            "  cost[column] = 0\n",
            "<ipython-input-15-783bac8e3e25>:9: SettingWithCopyWarning: \n",
            "A value is trying to be set on a copy of a slice from a DataFrame.\n",
            "Try using .loc[row_indexer,col_indexer] = value instead\n",
            "\n",
            "See the caveats in the documentation: https://pandas.pydata.org/pandas-docs/stable/user_guide/indexing.html#returning-a-view-versus-a-copy\n",
            "  cost[column] = 0\n",
            "<ipython-input-15-783bac8e3e25>:9: SettingWithCopyWarning: \n",
            "A value is trying to be set on a copy of a slice from a DataFrame.\n",
            "Try using .loc[row_indexer,col_indexer] = value instead\n",
            "\n",
            "See the caveats in the documentation: https://pandas.pydata.org/pandas-docs/stable/user_guide/indexing.html#returning-a-view-versus-a-copy\n",
            "  cost[column] = 0\n",
            "<ipython-input-15-783bac8e3e25>:9: SettingWithCopyWarning: \n",
            "A value is trying to be set on a copy of a slice from a DataFrame.\n",
            "Try using .loc[row_indexer,col_indexer] = value instead\n",
            "\n",
            "See the caveats in the documentation: https://pandas.pydata.org/pandas-docs/stable/user_guide/indexing.html#returning-a-view-versus-a-copy\n",
            "  cost[column] = 0\n",
            "<ipython-input-15-783bac8e3e25>:9: SettingWithCopyWarning: \n",
            "A value is trying to be set on a copy of a slice from a DataFrame.\n",
            "Try using .loc[row_indexer,col_indexer] = value instead\n",
            "\n",
            "See the caveats in the documentation: https://pandas.pydata.org/pandas-docs/stable/user_guide/indexing.html#returning-a-view-versus-a-copy\n",
            "  cost[column] = 0\n",
            "<ipython-input-15-783bac8e3e25>:9: SettingWithCopyWarning: \n",
            "A value is trying to be set on a copy of a slice from a DataFrame.\n",
            "Try using .loc[row_indexer,col_indexer] = value instead\n",
            "\n",
            "See the caveats in the documentation: https://pandas.pydata.org/pandas-docs/stable/user_guide/indexing.html#returning-a-view-versus-a-copy\n",
            "  cost[column] = 0\n",
            "<ipython-input-15-783bac8e3e25>:9: SettingWithCopyWarning: \n",
            "A value is trying to be set on a copy of a slice from a DataFrame.\n",
            "Try using .loc[row_indexer,col_indexer] = value instead\n",
            "\n",
            "See the caveats in the documentation: https://pandas.pydata.org/pandas-docs/stable/user_guide/indexing.html#returning-a-view-versus-a-copy\n",
            "  cost[column] = 0\n",
            "<ipython-input-15-783bac8e3e25>:9: SettingWithCopyWarning: \n",
            "A value is trying to be set on a copy of a slice from a DataFrame.\n",
            "Try using .loc[row_indexer,col_indexer] = value instead\n",
            "\n",
            "See the caveats in the documentation: https://pandas.pydata.org/pandas-docs/stable/user_guide/indexing.html#returning-a-view-versus-a-copy\n",
            "  cost[column] = 0\n",
            "<ipython-input-15-783bac8e3e25>:9: SettingWithCopyWarning: \n",
            "A value is trying to be set on a copy of a slice from a DataFrame.\n",
            "Try using .loc[row_indexer,col_indexer] = value instead\n",
            "\n",
            "See the caveats in the documentation: https://pandas.pydata.org/pandas-docs/stable/user_guide/indexing.html#returning-a-view-versus-a-copy\n",
            "  cost[column] = 0\n",
            "<ipython-input-15-783bac8e3e25>:9: SettingWithCopyWarning: \n",
            "A value is trying to be set on a copy of a slice from a DataFrame.\n",
            "Try using .loc[row_indexer,col_indexer] = value instead\n",
            "\n",
            "See the caveats in the documentation: https://pandas.pydata.org/pandas-docs/stable/user_guide/indexing.html#returning-a-view-versus-a-copy\n",
            "  cost[column] = 0\n",
            "<ipython-input-15-783bac8e3e25>:9: SettingWithCopyWarning: \n",
            "A value is trying to be set on a copy of a slice from a DataFrame.\n",
            "Try using .loc[row_indexer,col_indexer] = value instead\n",
            "\n",
            "See the caveats in the documentation: https://pandas.pydata.org/pandas-docs/stable/user_guide/indexing.html#returning-a-view-versus-a-copy\n",
            "  cost[column] = 0\n",
            "<ipython-input-15-783bac8e3e25>:9: SettingWithCopyWarning: \n",
            "A value is trying to be set on a copy of a slice from a DataFrame.\n",
            "Try using .loc[row_indexer,col_indexer] = value instead\n",
            "\n",
            "See the caveats in the documentation: https://pandas.pydata.org/pandas-docs/stable/user_guide/indexing.html#returning-a-view-versus-a-copy\n",
            "  cost[column] = 0\n",
            "<ipython-input-15-783bac8e3e25>:9: SettingWithCopyWarning: \n",
            "A value is trying to be set on a copy of a slice from a DataFrame.\n",
            "Try using .loc[row_indexer,col_indexer] = value instead\n",
            "\n",
            "See the caveats in the documentation: https://pandas.pydata.org/pandas-docs/stable/user_guide/indexing.html#returning-a-view-versus-a-copy\n",
            "  cost[column] = 0\n",
            "<ipython-input-15-783bac8e3e25>:9: SettingWithCopyWarning: \n",
            "A value is trying to be set on a copy of a slice from a DataFrame.\n",
            "Try using .loc[row_indexer,col_indexer] = value instead\n",
            "\n",
            "See the caveats in the documentation: https://pandas.pydata.org/pandas-docs/stable/user_guide/indexing.html#returning-a-view-versus-a-copy\n",
            "  cost[column] = 0\n",
            "<ipython-input-15-783bac8e3e25>:9: SettingWithCopyWarning: \n",
            "A value is trying to be set on a copy of a slice from a DataFrame.\n",
            "Try using .loc[row_indexer,col_indexer] = value instead\n",
            "\n",
            "See the caveats in the documentation: https://pandas.pydata.org/pandas-docs/stable/user_guide/indexing.html#returning-a-view-versus-a-copy\n",
            "  cost[column] = 0\n",
            "<ipython-input-15-783bac8e3e25>:9: SettingWithCopyWarning: \n",
            "A value is trying to be set on a copy of a slice from a DataFrame.\n",
            "Try using .loc[row_indexer,col_indexer] = value instead\n",
            "\n",
            "See the caveats in the documentation: https://pandas.pydata.org/pandas-docs/stable/user_guide/indexing.html#returning-a-view-versus-a-copy\n",
            "  cost[column] = 0\n",
            "<ipython-input-15-783bac8e3e25>:9: SettingWithCopyWarning: \n",
            "A value is trying to be set on a copy of a slice from a DataFrame.\n",
            "Try using .loc[row_indexer,col_indexer] = value instead\n",
            "\n",
            "See the caveats in the documentation: https://pandas.pydata.org/pandas-docs/stable/user_guide/indexing.html#returning-a-view-versus-a-copy\n",
            "  cost[column] = 0\n",
            "<ipython-input-15-783bac8e3e25>:9: SettingWithCopyWarning: \n",
            "A value is trying to be set on a copy of a slice from a DataFrame.\n",
            "Try using .loc[row_indexer,col_indexer] = value instead\n",
            "\n",
            "See the caveats in the documentation: https://pandas.pydata.org/pandas-docs/stable/user_guide/indexing.html#returning-a-view-versus-a-copy\n",
            "  cost[column] = 0\n",
            "<ipython-input-15-783bac8e3e25>:9: SettingWithCopyWarning: \n",
            "A value is trying to be set on a copy of a slice from a DataFrame.\n",
            "Try using .loc[row_indexer,col_indexer] = value instead\n",
            "\n",
            "See the caveats in the documentation: https://pandas.pydata.org/pandas-docs/stable/user_guide/indexing.html#returning-a-view-versus-a-copy\n",
            "  cost[column] = 0\n",
            "<ipython-input-15-783bac8e3e25>:9: SettingWithCopyWarning: \n",
            "A value is trying to be set on a copy of a slice from a DataFrame.\n",
            "Try using .loc[row_indexer,col_indexer] = value instead\n",
            "\n",
            "See the caveats in the documentation: https://pandas.pydata.org/pandas-docs/stable/user_guide/indexing.html#returning-a-view-versus-a-copy\n",
            "  cost[column] = 0\n",
            "<ipython-input-15-783bac8e3e25>:9: SettingWithCopyWarning: \n",
            "A value is trying to be set on a copy of a slice from a DataFrame.\n",
            "Try using .loc[row_indexer,col_indexer] = value instead\n",
            "\n",
            "See the caveats in the documentation: https://pandas.pydata.org/pandas-docs/stable/user_guide/indexing.html#returning-a-view-versus-a-copy\n",
            "  cost[column] = 0\n",
            "<ipython-input-15-783bac8e3e25>:9: SettingWithCopyWarning: \n",
            "A value is trying to be set on a copy of a slice from a DataFrame.\n",
            "Try using .loc[row_indexer,col_indexer] = value instead\n",
            "\n",
            "See the caveats in the documentation: https://pandas.pydata.org/pandas-docs/stable/user_guide/indexing.html#returning-a-view-versus-a-copy\n",
            "  cost[column] = 0\n",
            "<ipython-input-15-783bac8e3e25>:9: SettingWithCopyWarning: \n",
            "A value is trying to be set on a copy of a slice from a DataFrame.\n",
            "Try using .loc[row_indexer,col_indexer] = value instead\n",
            "\n",
            "See the caveats in the documentation: https://pandas.pydata.org/pandas-docs/stable/user_guide/indexing.html#returning-a-view-versus-a-copy\n",
            "  cost[column] = 0\n",
            "<ipython-input-15-783bac8e3e25>:9: SettingWithCopyWarning: \n",
            "A value is trying to be set on a copy of a slice from a DataFrame.\n",
            "Try using .loc[row_indexer,col_indexer] = value instead\n",
            "\n",
            "See the caveats in the documentation: https://pandas.pydata.org/pandas-docs/stable/user_guide/indexing.html#returning-a-view-versus-a-copy\n",
            "  cost[column] = 0\n",
            "<ipython-input-15-783bac8e3e25>:9: SettingWithCopyWarning: \n",
            "A value is trying to be set on a copy of a slice from a DataFrame.\n",
            "Try using .loc[row_indexer,col_indexer] = value instead\n",
            "\n",
            "See the caveats in the documentation: https://pandas.pydata.org/pandas-docs/stable/user_guide/indexing.html#returning-a-view-versus-a-copy\n",
            "  cost[column] = 0\n",
            "<ipython-input-15-783bac8e3e25>:9: SettingWithCopyWarning: \n",
            "A value is trying to be set on a copy of a slice from a DataFrame.\n",
            "Try using .loc[row_indexer,col_indexer] = value instead\n",
            "\n",
            "See the caveats in the documentation: https://pandas.pydata.org/pandas-docs/stable/user_guide/indexing.html#returning-a-view-versus-a-copy\n",
            "  cost[column] = 0\n"
          ]
        },
        {
          "output_type": "stream",
          "name": "stdout",
          "text": [
            "   year  month  day\n",
            "0  2017      7    9\n",
            "1  2017      7    9\n",
            "2  2017      7    9\n",
            "3  2017      7    9\n",
            "4  2017      7    9\n"
          ]
        }
      ]
    },
    {
      "cell_type": "code",
      "source": [
        "# from sklearn.model_selection import train_test_split\n",
        "\n",
        "# # Split the data into training and testing sets\n",
        "# X = combined_df[combined_df.drop(columns=['outtrn_cumsum','HeatingEnergyUsage_cumsum', 'date', 'year']).columns]\n",
        "# Y = combined_df[['outtrn_cumsum','HeatingEnergyUsage_cumsum']]\n",
        "# X_train, X_test, y_train, y_test = train_test_split(\n",
        "#     X, Y, test_size=0.2, random_state=42\n",
        "# )"
      ],
      "metadata": {
        "id": "0-bwyh0s2Egg"
      },
      "execution_count": 16,
      "outputs": []
    },
    {
      "cell_type": "code",
      "source": [
        "# X.columns #파생변수 O"
      ],
      "metadata": {
        "id": "Y-ZyZBdi2aBK"
      },
      "execution_count": 17,
      "outputs": []
    },
    {
      "cell_type": "code",
      "source": [
        "from sklearn.model_selection import train_test_split\n",
        "\n",
        "# Split the data into training and testing sets\n",
        "X = df[df.drop(columns=['outtrn_cumsum','HeatingEnergyUsage_cumsum']).columns]\n",
        "Y = df[['outtrn_cumsum','HeatingEnergyUsage_cumsum']]\n",
        "X_train, X_test, y_train, y_test = train_test_split(\n",
        "    X, Y, test_size=0.2, random_state=42\n",
        ")"
      ],
      "metadata": {
        "id": "yP064z-JyLKO"
      },
      "execution_count": 18,
      "outputs": []
    },
    {
      "cell_type": "code",
      "source": [
        "X.columns # 파생변수 X"
      ],
      "metadata": {
        "id": "smxVCcOR2w-w",
        "colab": {
          "base_uri": "https://localhost:8080/"
        },
        "outputId": "7d38fe32-d876-48aa-bedf-9a47586b2be8"
      },
      "execution_count": 19,
      "outputs": [
        {
          "output_type": "execute_result",
          "data": {
            "text/plain": [
              "Index(['date', 'inTp', 'inHd', 'otmsuplyqy', 'acSlrdQy', 'cunt', 'ph', 'outTp',\n",
              "       'outWs', 'inCo2', 'ec', 'frmYear', 'frmWeek', 'frtstGrupp', 'flanGrupp',\n",
              "       'frtstCo', 'tcdmt', 'frmhsFclu', 'hvstGrupp', 'grwtLt', 'fcluHg',\n",
              "       'lefLt', 'hvstCo', 'lefCunt', 'lefBt', 'stemThck', 'frmAr', 'frmDov',\n",
              "       'outtrn', 'WaterUsage', 'WaterCost', 'FertilizerUsage',\n",
              "       'FertilizerCost', 'HeatingEnergyUsage', 'HeatingEnergyCost', 'CO2Usage',\n",
              "       'CO2Cost', 'MistUsageTime', 'Mist Cost'],\n",
              "      dtype='object')"
            ]
          },
          "metadata": {},
          "execution_count": 19
        }
      ]
    },
    {
      "cell_type": "markdown",
      "source": [
        "# 모델 정의 및 학습, 예측"
      ],
      "metadata": {
        "id": "o_BRoD9E35HF"
      }
    },
    {
      "cell_type": "code",
      "source": [
        "# from sklearn.ensemble import RandomForestRegressor\n",
        "\n",
        "# # Initialize and train the LinearRegression model\n",
        "# model = RandomForestRegressor()\n",
        "# model.fit(X_train, y_train)\n",
        "\n",
        "# # Predict 'y' values using the trained model\n",
        "# y_pred = model.predict(X_test)"
      ],
      "metadata": {
        "id": "e6lcT-5bp3sf"
      },
      "execution_count": 20,
      "outputs": []
    },
    {
      "cell_type": "code",
      "source": [
        "from sklearn.linear_model import LinearRegression, LassoCV, Ridge, LassoLarsCV, ElasticNetCV, MultiTaskLassoCV\n",
        "from sklearn.model_selection import GridSearchCV, cross_val_score, learning_curve\n",
        "from sklearn.ensemble import RandomForestRegressor, AdaBoostRegressor, ExtraTreesRegressor, GradientBoostingRegressor\n",
        "from sklearn.preprocessing import StandardScaler, Normalizer, RobustScaler\n",
        "from sklearn.base import BaseEstimator, RegressorMixin\n",
        "from sklearn.multioutput import MultiOutputRegressor\n",
        "from sklearn.metrics import mean_squared_error, r2_score\n",
        "import xgboost as xgb\n",
        "import lightgbm as lgb\n",
        "from sklearn.tree import DecisionTreeRegressor\n",
        "from sklearn.ensemble import RandomForestRegressor, ExtraTreesRegressor, GradientBoostingRegressor\n",
        "from sklearn.experimental import enable_hist_gradient_boosting  # 이 줄은 아래 HistGradientBoostingRegressor를 사용하기 전에 필요합니다.\n",
        "from sklearn.ensemble import HistGradientBoostingRegressor"
      ],
      "metadata": {
        "id": "W-5QrluBp0Fg",
        "colab": {
          "base_uri": "https://localhost:8080/"
        },
        "outputId": "8de8a153-36fd-475e-c11a-fe2b83197603"
      },
      "execution_count": 21,
      "outputs": [
        {
          "output_type": "stream",
          "name": "stderr",
          "text": [
            "/usr/local/lib/python3.10/dist-packages/sklearn/experimental/enable_hist_gradient_boosting.py:16: UserWarning: Since version 1.0, it is not needed to import enable_hist_gradient_boosting anymore. HistGradientBoostingClassifier and HistGradientBoostingRegressor are now stable and can be normally imported from sklearn.ensemble.\n",
            "  warnings.warn(\n"
          ]
        }
      ]
    },
    {
      "cell_type": "code",
      "source": [
        "class SimpleEnsemble(BaseEstimator, RegressorMixin):\n",
        "    def __init__(self, models):\n",
        "        self.models = [MultiOutputRegressor(model) for model in models]\n",
        "\n",
        "    def fit(self, X, y):\n",
        "        for model in self.models:\n",
        "            model.fit(X, y)\n",
        "        return self\n",
        "\n",
        "    def predict(self, X):\n",
        "        predictions = np.array([model.predict(X) for model in self.models])\n",
        "        return np.mean(predictions, axis=0)\n",
        "\n",
        "#linearRegressor = LinearRegression()\n",
        "#lassocv = LassoCV()\n",
        "#ridge = Ridge()\n",
        "#lassolarscv = LassoLarsCV()\n",
        "#elasticnetcv = ElasticNetCV()\n",
        "model_xgb = xgb.XGBRegressor()\n",
        "GBoost = GradientBoostingRegressor()\n",
        "LightGB = lgb.LGBMRegressor(force_row_wise='true')\n",
        "RF = RandomForestRegressor()\n",
        "ETR = ExtraTreesRegressor()\n",
        "HGBR = HistGradientBoostingRegressor()\n",
        "\n",
        "# 테스트 세트에 대한 예측\n",
        "models = [GBoost, LightGB, RF, model_xgb, ETR, HGBR]\n",
        "model = SimpleEnsemble(models)\n",
        "\n",
        "model.fit(X_train, y_train)\n",
        "\n",
        "y_pred = model.predict(X_test)"
      ],
      "metadata": {
        "colab": {
          "base_uri": "https://localhost:8080/"
        },
        "id": "l5Rz45PKwCJv",
        "outputId": "13dc05c6-2fd9-415a-faad-909c471b2476"
      },
      "execution_count": 22,
      "outputs": [
        {
          "output_type": "stream",
          "name": "stdout",
          "text": [
            "[LightGBM] [Warning] Found whitespace in feature_names, replace with underlines\n",
            "[LightGBM] [Info] Total Bins 9000\n",
            "[LightGBM] [Info] Number of data points in the train set: 67872, number of used features: 39\n",
            "[LightGBM] [Info] Start training from score 25537.923871\n",
            "[LightGBM] [Warning] Found whitespace in feature_names, replace with underlines\n",
            "[LightGBM] [Info] Total Bins 9000\n",
            "[LightGBM] [Info] Number of data points in the train set: 67872, number of used features: 39\n",
            "[LightGBM] [Info] Start training from score 144306.559980\n"
          ]
        }
      ]
    },
    {
      "cell_type": "markdown",
      "source": [
        "# 성능 평가"
      ],
      "metadata": {
        "id": "Ofjn6QeW37Bm"
      }
    },
    {
      "cell_type": "code",
      "source": [
        "# Calculate RMSE between the predictions and actual 'y' values\n",
        "def calculate_rmse(targets, predictions):\n",
        "    \"\"\"\n",
        "    Calculate the Root Mean Squared Error (RMSE) between predicted and target values.\n",
        "\n",
        "    :param predictions: Predicted values.\n",
        "    :type predictions: array-like\n",
        "    :param targets: Target values.\n",
        "    :type targets: array-like\n",
        "    :return: RMSE value.\n",
        "    :rtype: float\n",
        "    \"\"\"\n",
        "    from sklearn.metrics import mean_squared_error\n",
        "    return np.sqrt(mean_squared_error(targets, predictions))\n",
        "\n",
        "\n",
        "# Calculate r2_score between the predictions and actual 'y' values\n",
        "def calculate_R2_score(y_test,y_pred):\n",
        "    from sklearn.metrics import r2_score\n",
        "    return r2_score(y_test, y_pred)\n",
        "\n",
        "\n",
        "rmse = calculate_rmse(y_test, y_pred)\n",
        "r2score = calculate_R2_score(y_test, y_pred)\n",
        "\n",
        "# ------------------------------------------------\n",
        "### OUTPUT ###\n",
        "print(\"RMSE:\", rmse)\n",
        "print(\"R2_score:\", r2score)"
      ],
      "metadata": {
        "colab": {
          "base_uri": "https://localhost:8080/"
        },
        "id": "w2w9F3En3kxM",
        "outputId": "85528380-c35f-4569-b67c-602aef0e765c"
      },
      "execution_count": 23,
      "outputs": [
        {
          "output_type": "stream",
          "name": "stdout",
          "text": [
            "RMSE: 26822.116899029188\n",
            "R2_score: 0.9974610127694015\n"
          ]
        }
      ]
    },
    {
      "cell_type": "code",
      "source": [],
      "metadata": {
        "id": "uKMXBcpuQDEn"
      },
      "execution_count": null,
      "outputs": []
    }
  ],
  "metadata": {
    "kernelspec": {
      "display_name": "Python 3",
      "language": "python",
      "name": "python3"
    },
    "language_info": {
      "codemirror_mode": {
        "name": "ipython",
        "version": 3
      },
      "file_extension": ".py",
      "mimetype": "text/x-python",
      "name": "python",
      "nbconvert_exporter": "python",
      "pygments_lexer": "ipython3",
      "version": "3.11.4"
    },
    "orig_nbformat": 4,
    "colab": {
      "provenance": []
    }
  },
  "nbformat": 4,
  "nbformat_minor": 0
}