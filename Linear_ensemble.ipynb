{
 "cells": [
  {
   "cell_type": "code",
   "execution_count": 6,
   "metadata": {},
   "outputs": [],
   "source": [
    "import pandas as pd\n",
    "import numpy as np\n",
    "\n",
    "from sklearn.model_selection import train_test_split\n",
    "from sklearn.base import BaseEstimator, RegressorMixin\n",
    "from sklearn.multioutput import MultiOutputRegressor\n",
    "from sklearn.linear_model import LinearRegression, RidgeCV, LassoCV, ElasticNetCV, LassoLarsCV, BayesianRidge, ARDRegression\n",
    "from sklearn.metrics import mean_squared_error, r2_score"
   ]
  },
  {
   "cell_type": "code",
   "execution_count": 7,
   "metadata": {},
   "outputs": [
    {
     "data": {
      "text/plain": [
       "(84840, 50)"
      ]
     },
     "execution_count": 7,
     "metadata": {},
     "output_type": "execute_result"
    }
   ],
   "source": [
    "###  INPUT ###\n",
    "input_data = pd.read_csv('2023_smartFarm_AI_hackathon_dataset.csv') \n",
    "input_data.shape"
   ]
  },
  {
   "cell_type": "code",
   "execution_count": 8,
   "metadata": {},
   "outputs": [],
   "source": [
    "df = input_data.drop(columns=['frmDist'])\n",
    "df = df.sort_values(by='date')\n",
    "\n",
    "# 데이터를 훈련 세트와 테스트 세트로 분할\n",
    "'''\n",
    "데이터를 훈련 세트와 테스트 세트로 나누는 데 사용됩니다. \n",
    "이는 모델의 성능을 평가하기 위해 데이터를 분리하는 일반적인 절차입니다.\n",
    "'''\n",
    "# 데이터셋을 data, target으로 변수분리\n",
    "X = df[df.drop(columns=['outtrn_cumsum','HeatingEnergyUsage_cumsum']).columns]\n",
    "Y = df[['outtrn_cumsum','HeatingEnergyUsage_cumsum']]\n",
    "X_train, X_test, y_train, y_test = train_test_split(X, Y, test_size=0.2, random_state=42)\n"
   ]
  },
  {
   "cell_type": "code",
   "execution_count": 9,
   "metadata": {},
   "outputs": [
    {
     "name": "stderr",
     "output_type": "stream",
     "text": [
      "/Users/bello/anaconda3/envs/ppap/lib/python3.9/site-packages/sklearn/linear_model/_least_angle.py:675: ConvergenceWarning: Early stopping the lars path, as the residues are small and the current value of alpha is no longer well controlled. 46 iterations, alpha=3.014e-07, previous alpha=1.428e-07, with an active set of 37 regressors.\n",
      "  warnings.warn(\n",
      "/Users/bello/anaconda3/envs/ppap/lib/python3.9/site-packages/sklearn/linear_model/_least_angle.py:675: ConvergenceWarning: Early stopping the lars path, as the residues are small and the current value of alpha is no longer well controlled. 43 iterations, alpha=6.992e-07, previous alpha=3.690e-07, with an active set of 36 regressors.\n",
      "  warnings.warn(\n",
      "/Users/bello/anaconda3/envs/ppap/lib/python3.9/site-packages/sklearn/linear_model/_least_angle.py:675: ConvergenceWarning: Early stopping the lars path, as the residues are small and the current value of alpha is no longer well controlled. 41 iterations, alpha=1.354e-06, previous alpha=8.150e-07, with an active set of 36 regressors.\n",
      "  warnings.warn(\n",
      "/Users/bello/anaconda3/envs/ppap/lib/python3.9/site-packages/sklearn/linear_model/_least_angle.py:675: ConvergenceWarning: Early stopping the lars path, as the residues are small and the current value of alpha is no longer well controlled. 44 iterations, alpha=2.316e-07, previous alpha=2.258e-07, with an active set of 35 regressors.\n",
      "  warnings.warn(\n",
      "/Users/bello/anaconda3/envs/ppap/lib/python3.9/site-packages/sklearn/linear_model/_least_angle.py:675: ConvergenceWarning: Early stopping the lars path, as the residues are small and the current value of alpha is no longer well controlled. 42 iterations, alpha=7.042e-07, previous alpha=1.341e-07, with an active set of 37 regressors.\n",
      "  warnings.warn(\n",
      "/Users/bello/anaconda3/envs/ppap/lib/python3.9/site-packages/sklearn/linear_model/_least_angle.py:675: ConvergenceWarning: Early stopping the lars path, as the residues are small and the current value of alpha is no longer well controlled. 46 iterations, alpha=2.835e-05, previous alpha=2.323e-05, with an active set of 37 regressors.\n",
      "  warnings.warn(\n",
      "/Users/bello/anaconda3/envs/ppap/lib/python3.9/site-packages/sklearn/linear_model/_least_angle.py:675: ConvergenceWarning: Early stopping the lars path, as the residues are small and the current value of alpha is no longer well controlled. 42 iterations, alpha=1.247e-04, previous alpha=1.033e-04, with an active set of 35 regressors.\n",
      "  warnings.warn(\n",
      "/Users/bello/anaconda3/envs/ppap/lib/python3.9/site-packages/sklearn/linear_model/_least_angle.py:675: ConvergenceWarning: Early stopping the lars path, as the residues are small and the current value of alpha is no longer well controlled. 45 iterations, alpha=2.122e-05, previous alpha=2.088e-05, with an active set of 36 regressors.\n",
      "  warnings.warn(\n",
      "/Users/bello/anaconda3/envs/ppap/lib/python3.9/site-packages/sklearn/linear_model/_least_angle.py:675: ConvergenceWarning: Early stopping the lars path, as the residues are small and the current value of alpha is no longer well controlled. 43 iterations, alpha=4.858e-05, previous alpha=4.615e-05, with an active set of 36 regressors.\n",
      "  warnings.warn(\n",
      "/Users/bello/anaconda3/envs/ppap/lib/python3.9/site-packages/sklearn/linear_model/_least_angle.py:675: ConvergenceWarning: Early stopping the lars path, as the residues are small and the current value of alpha is no longer well controlled. 47 iterations, alpha=4.284e-04, previous alpha=1.489e-05, with an active set of 38 regressors.\n",
      "  warnings.warn(\n"
     ]
    }
   ],
   "source": [
    "class SimpleEnsemble(BaseEstimator, RegressorMixin):\n",
    "    def __init__(self, models):\n",
    "        self.models = [MultiOutputRegressor(model) for model in models]\n",
    "        \n",
    "    def fit(self, X, y):\n",
    "        for model in self.models:\n",
    "            model.fit(X, y)\n",
    "        return self\n",
    "    \n",
    "    def predict(self, X):\n",
    "        predictions = np.array([model.predict(X) for model in self.models])\n",
    "        return np.mean(predictions, axis=0)\n",
    "\n",
    "LR = LinearRegression()\n",
    "lasso = LassoCV()\n",
    "LassoLars = LassoLarsCV() \n",
    "ridge = RidgeCV() \n",
    "elasticnetcv = ElasticNetCV()\n",
    "BRR = BayesianRidge()\n",
    "ARDR = ARDRegression()\n",
    "\n",
    "# 테스트 세트에 대한 예측\n",
    "models = [LR, lasso, LassoLars, ridge, elasticnetcv, BRR, ARDR]\n",
    "model = SimpleEnsemble(models)\n",
    "\n",
    "model.fit(X_train, y_train)\n",
    "\n",
    "y_pred = model.predict(X_test)"
   ]
  },
  {
   "cell_type": "code",
   "execution_count": 10,
   "metadata": {},
   "outputs": [
    {
     "name": "stdout",
     "output_type": "stream",
     "text": [
      "RMSE: 236031.04788358687\n",
      "R2_score: 0.7097708594417047\n"
     ]
    }
   ],
   "source": [
    "'''\n",
    "mean_squared_error와 r2_score는 회귀 모델의 예측 성능을 평가하는 메트릭입니다. \n",
    "RMSE는 예측값과 실제값 간의 제곱 오차의 평균 제곱근을 나타내며, \n",
    "R2 스코어는 모델이 데이터의 분산을 얼마나 설명하는지를 나타냅니다.\n",
    "'''\n",
    "rmse = np.sqrt(mean_squared_error(y_test, y_pred))\n",
    "r2score = r2_score(y_test, y_pred)\n",
    "\n",
    "\n",
    "### OUTPUT ###\n",
    "print(\"RMSE:\", rmse)\n",
    "print(\"R2_score:\", r2score)"
   ]
  }
 ],
 "metadata": {
  "kernelspec": {
   "display_name": "ppap",
   "language": "python",
   "name": "python3"
  },
  "language_info": {
   "codemirror_mode": {
    "name": "ipython",
    "version": 3
   },
   "file_extension": ".py",
   "mimetype": "text/x-python",
   "name": "python",
   "nbconvert_exporter": "python",
   "pygments_lexer": "ipython3",
   "version": "3.9.18"
  },
  "orig_nbformat": 4
 },
 "nbformat": 4,
 "nbformat_minor": 2
}
