{
 "cells": [
  {
   "cell_type": "code",
   "execution_count": null,
   "metadata": {},
   "outputs": [],
   "source": [
    "import pandas as pd\n",
    "import numpy as np\n",
    "\n",
    "from sklearn.model_selection import train_test_split\n",
    "from sklearn.base import BaseEstimator, RegressorMixin\n",
    "from sklearn.multioutput import MultiOutputRegressor\n",
    "from sklearn.metrics import mean_squared_error, r2_score\n",
    "import xgboost as xgb\n",
    "import lightgbm as lgb\n",
    "\n",
    "from sklearn.tree import DecisionTreeRegressor\n",
    "from sklearn.ensemble import RandomForestRegressor, ExtraTreesRegressor, GradientBoostingRegressor, BaggingRegressor, StackingRegressor, VotingRegressor, AdaBoostRegressor\n",
    "from sklearn.experimental import enable_hist_gradient_boosting  # 이 줄은 아래 HistGradientBoostingRegressor를 사용하기 전에 필요합니다.\n",
    "from sklearn.ensemble import HistGradientBoostingRegressor\n",
    "from sklearn.model_selection import cross_val_predict"
   ]
  },
  {
   "cell_type": "code",
   "execution_count": null,
   "metadata": {},
   "outputs": [],
   "source": [
    "###  INPUT ###\n",
    "input_data = pd.read_csv('2023_smartFarm_AI_hackathon_dataset.csv') \n",
    "input_data.shape"
   ]
  },
  {
   "cell_type": "code",
   "execution_count": null,
   "metadata": {},
   "outputs": [],
   "source": [
    "df = input_data.drop(columns=['frmDist'])\n",
    "df = df.sort_values(by='date')\n",
    "\n",
    "# 데이터를 훈련 세트와 테스트 세트로 분할\n",
    "'''\n",
    "데이터를 훈련 세트와 테스트 세트로 나누는 데 사용됩니다. \n",
    "이는 모델의 성능을 평가하기 위해 데이터를 분리하는 일반적인 절차입니다.\n",
    "'''\n",
    "# 데이터셋을 data, target으로 변수분리\n",
    "X = df[df.drop(columns=['outtrn_cumsum','HeatingEnergyUsage_cumsum']).columns]\n",
    "Y = df[['outtrn_cumsum','HeatingEnergyUsage_cumsum']]\n",
    "X_train, X_test, y_train, y_test = train_test_split(X, Y, test_size=0.2, random_state=42)"
   ]
  },
  {
   "cell_type": "code",
   "execution_count": null,
   "metadata": {},
   "outputs": [],
   "source": [
    "class SimpleEnsemble(BaseEstimator, RegressorMixin):\n",
    "    def __init__(self, models):\n",
    "        self.models = models\n",
    "\n",
    "    def fit(self, X, y):\n",
    "        for model in self.models:\n",
    "            model.fit(X, y)\n",
    "        return self\n",
    "    \n",
    "    def predict(self, X):\n",
    "        predictions = np.array([model.predict(X) for model in self.models])\n",
    "        return np.mean(predictions, axis=0)\n",
    "\n",
    "model_xgb = ('xgb', xgb.XGBRegressor())\n",
    "GBoost = ('gboost', GradientBoostingRegressor())\n",
    "LightGB = ('lgb', lgb.LGBMRegressor())\n",
    "RF = ('rf', RandomForestRegressor())\n",
    "ETR = ('etr', ExtraTreesRegressor())\n",
    "DT = ('dt', DecisionTreeRegressor())\n",
    "HGBR = ('hgbr', HistGradientBoostingRegressor())\n",
    "Bagging = ('bagging', BaggingRegressor())\n",
    "\n",
    "models = [GBoost, LightGB, RF, model_xgb, ETR, DT, HGBR, Bagging]\n",
    "\n",
    "ensemble_model = SimpleEnsemble([estimator for _, estimator in models])"
   ]
  },
  {
   "cell_type": "code",
   "execution_count": null,
   "metadata": {},
   "outputs": [],
   "source": [
    "# 첫 번째 레벨의 스태킹 모델\n",
    "first_level = StackingRegressor(estimators=models, final_estimator=ensemble_model)\n",
    "first_level = MultiOutputRegressor(first_level)\n",
    "\n",
    "# 첫 번째 레벨의 스태킹 모델 학습\n",
    "first_level.fit(X_train, y_train)\n",
    "\n",
    "# 훈련 및 검증 세트에 대한 예측 생성\n",
    "train_preds = cross_val_predict(first_level, X_train, y_train, cv=5)\n",
    "test_preds = first_level.predict(X_test)\n",
    "\n",
    "# 두 번째 레벨의 스태킹 모델\n",
    "second_level = StackingRegressor(estimators=models, final_estimator=ensemble_model)\n",
    "model = MultiOutputRegressor(second_level)\n",
    "\n",
    "#### MODEL ####\n",
    "model = StackingRegressor(estimators=models, final_estimator=ensemble_model)\n",
    "model = MultiOutputRegressor(model)"
   ]
  },
  {
   "cell_type": "code",
   "execution_count": null,
   "metadata": {},
   "outputs": [],
   "source": [
    "model.fit(X_train, y_train)\n",
    "y_pred = model.predict(X_test)"
   ]
  },
  {
   "cell_type": "code",
   "execution_count": null,
   "metadata": {},
   "outputs": [],
   "source": [
    "# 성능 지표 계산\n",
    "rmse = np.sqrt(mean_squared_error(y_test, model))\n",
    "r2score = r2_score(y_test, model)"
   ]
  },
  {
   "cell_type": "code",
   "execution_count": null,
   "metadata": {},
   "outputs": [],
   "source": [
    "### OUTPUT ###\n",
    "print(\"RMSE:\", rmse)\n",
    "print(\"R2_score:\", r2score)"
   ]
  }
 ],
 "metadata": {
  "kernelspec": {
   "display_name": "ppap",
   "language": "python",
   "name": "python3"
  },
  "language_info": {
   "name": "python",
   "version": "3.9.18"
  },
  "orig_nbformat": 4
 },
 "nbformat": 4,
 "nbformat_minor": 2
}
