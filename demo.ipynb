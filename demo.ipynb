{
 "cells": [
  {
   "cell_type": "code",
   "execution_count": null,
   "metadata": {},
   "outputs": [],
   "source": [
    "from autogluon.tabular import TabularPredictor, TabularDataset\n",
    "import numpy as np\n",
    "import pandas as pd\n",
    "from sklearn.model_selection import train_test_split\n",
    "from sklearn.metrics import mean_squared_error, r2_score"
   ]
  },
  {
   "cell_type": "code",
   "execution_count": null,
   "metadata": {},
   "outputs": [],
   "source": [
    "### data preprocess\n",
    "# input data import\n",
    "input_data = pd.read_csv('SAMPLE_DATA.csv')\n",
    "\n",
    "# 데이터셋을 data, target으로 변수분리\n",
    "data = input_data.iloc[:,:-1]\n",
    "target = input_data.iloc[:,-1]\n",
    "\n",
    "X_train, X_test, y_train, y_test = train_test_split(data, target, test_size=0.2, random_state=42)"
   ]
  },
  {
   "cell_type": "code",
   "execution_count": null,
   "metadata": {},
   "outputs": [],
   "source": [
    "### RMSE\n",
    "# AutoGluon 모델을 저장\n",
    "model_path = \"./autogluon_model_predict/{model_name}\" # RMSE trained model\n",
    "\n",
    "# 모델을 불러오기\n",
    "loaded_predictor = TabularPredictor.load(model_path)\n",
    "\n",
    "# 테스트 데이터 준비\n",
    "test_df = TabularDataset('') \n",
    "prediction = loaded_predictor.predict(test_df)\n",
    "\n",
    "# RMSE 계산\n",
    "rmse = np.sqrt(mean_squared_error(y_test, prediction))"
   ]
  },
  {
   "cell_type": "code",
   "execution_count": null,
   "metadata": {},
   "outputs": [],
   "source": [
    "### RMSE\n",
    "# AutoGluon 모델을 저장\n",
    "model_path = \"./autogluon_model_predict/{model_name}\" # R2 trained model\n",
    "\n",
    "# 모델을 불러오기\n",
    "loaded_predictor = TabularPredictor.load(model_path)\n",
    "\n",
    "# 테스트 데이터 준비\n",
    "test_df = TabularDataset(X_test)\n",
    "prediction = loaded_predictor.predict(test_df)\n",
    "\n",
    "# R2 계산\n",
    "r2score = r2_score(y_test, prediction)"
   ]
  },
  {
   "cell_type": "code",
   "execution_count": null,
   "metadata": {},
   "outputs": [],
   "source": [
    "### OUTPUT ###\n",
    "print(\"RMSE:\", rmse)\n",
    "print(\"R2_score:\", r2score)"
   ]
  }
 ],
 "metadata": {
  "language_info": {
   "name": "python"
  },
  "orig_nbformat": 4
 },
 "nbformat": 4,
 "nbformat_minor": 2
}
