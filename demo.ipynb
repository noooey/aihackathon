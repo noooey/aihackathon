{
 "cells": [
  {
   "cell_type": "code",
   "execution_count": 1,
   "metadata": {},
   "outputs": [
    {
     "name": "stderr",
     "output_type": "stream",
     "text": [
      "/Users/bello/anaconda3/envs/tomato/lib/python3.9/site-packages/tqdm/auto.py:21: TqdmWarning: IProgress not found. Please update jupyter and ipywidgets. See https://ipywidgets.readthedocs.io/en/stable/user_install.html\n",
      "  from .autonotebook import tqdm as notebook_tqdm\n"
     ]
    }
   ],
   "source": [
    "from autogluon.tabular import TabularPredictor, TabularDataset\n",
    "import numpy as np\n",
    "import pandas as pd\n",
    "from sklearn.model_selection import train_test_split\n",
    "from sklearn.metrics import mean_squared_error, r2_score"
   ]
  },
  {
   "cell_type": "code",
   "execution_count": 2,
   "metadata": {},
   "outputs": [],
   "source": [
    "### data preprocess\n",
    "# input data import\n",
    "input_data = pd.read_csv('2023_smartFarm_AI_hackathon_dataset.csv')\n",
    "\n",
    "# 데이터셋을 data, target으로 변수분리\n",
    "data = input_data.iloc[:,:-1]\n",
    "target = input_data.iloc[:,-1]\n",
    "\n",
    "X_train, X_test, y_train, y_test = train_test_split(data, target, test_size=0.2, random_state=42)"
   ]
  },
  {
   "cell_type": "code",
   "execution_count": 11,
   "metadata": {},
   "outputs": [],
   "source": [
    "### RMSE, R2 evaluateß\n",
    "# AutoGluon 모델을 저장\n",
    "model_path = \"AutogluonModels/default_1hr\" # RMSE trained model\n",
    "\n",
    "# 모델을 불러오기\n",
    "loaded_predictor = TabularPredictor.load(model_path)\n",
    "\n",
    "# 테스트 데이터 준비\n",
    "test_df = TabularDataset(X_test) \n",
    "prediction = loaded_predictor.predict(test_df)\n",
    "\n",
    "# RMSE 계산\n",
    "rmse = np.sqrt(mean_squared_error(y_test, prediction))\n",
    "r2score = r2_score(y_test, prediction)"
   ]
  },
  {
   "cell_type": "code",
   "execution_count": 13,
   "metadata": {},
   "outputs": [
    {
     "name": "stdout",
     "output_type": "stream",
     "text": [
      "RMSE: 3615.5786537397207\n",
      "R2_score: 0.9999623472368988\n"
     ]
    }
   ],
   "source": [
    "### OUTPUT ###\n",
    "print(\"RMSE:\", rmse)\n",
    "print(\"R2_score:\", r2score)"
   ]
  }
 ],
 "metadata": {
  "kernelspec": {
   "display_name": "tomato",
   "language": "python",
   "name": "python3"
  },
  "language_info": {
   "codemirror_mode": {
    "name": "ipython",
    "version": 3
   },
   "file_extension": ".py",
   "mimetype": "text/x-python",
   "name": "python",
   "nbconvert_exporter": "python",
   "pygments_lexer": "ipython3",
   "version": "3.9.18"
  },
  "orig_nbformat": 4
 },
 "nbformat": 4,
 "nbformat_minor": 2
}
